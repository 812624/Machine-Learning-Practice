<!DOCTYPE html>
<!-- saved from url=(0054)http://localhost:8888/notebooks/LinearRegression.ipynb -->
<html><head><meta http-equiv="Content-Type" content="text/html; charset=UTF-8">
    

    <title>LinearRegression</title>
    <link rel="shortcut icon" type="image/x-icon" href="http://localhost:8888/static/base/images/favicon.ico?v=97c6417ed01bdc0ae3ef32ae4894fd03">
    <meta http-equiv="X-UA-Compatible" content="IE=edge">
    <link rel="stylesheet" href="./LinearRegression_files/jquery-ui.min.css" type="text/css">
    <link rel="stylesheet" href="./LinearRegression_files/jquery.typeahead.min.css" type="text/css">
    <meta name="viewport" content="width=device-width, initial-scale=1.0">
    
    


<script type="text/javascript" src="./LinearRegression_files/MathJax.js" charset="utf-8"></script>

<script type="text/javascript">
// MathJax disabled, set as null to distingish from *missing* MathJax,
// where it will be undefined, and should prompt a dialog later.
window.mathjax_url = "/static/components/MathJax/MathJax.js";
</script>

<link rel="stylesheet" href="./LinearRegression_files/bootstrap-tour.min.css" type="text/css">
<link rel="stylesheet" href="./LinearRegression_files/codemirror.css">


    <link rel="stylesheet" href="./LinearRegression_files/style.min.css" type="text/css">
    

<link rel="stylesheet" href="./LinearRegression_files/override.css" type="text/css">
<link rel="stylesheet" href="http://localhost:8888/notebooks/LinearRegression.ipynb" id="kernel-css" type="text/css">


    <link rel="stylesheet" href="./LinearRegression_files/custom.css" type="text/css">
    <script src="./LinearRegression_files/promise.min.js" type="text/javascript" charset="utf-8"></script>
    <script src="./LinearRegression_files/index.js" type="text/javascript"></script>
    <script src="./LinearRegression_files/index(1).js" type="text/javascript"></script>
    <script src="./LinearRegression_files/index(2).js" type="text/javascript"></script>
    <script src="./LinearRegression_files/require.js" type="text/javascript" charset="utf-8"></script>
    <script>
      require.config({
          
          urlArgs: "v=20170716150554",
          
          baseUrl: '/static/',
          paths: {
            'auth/js/main': 'auth/js/main.min',
            custom : '/custom',
            nbextensions : '/nbextensions',
            kernelspecs : '/kernelspecs',
            underscore : 'components/underscore/underscore-min',
            backbone : 'components/backbone/backbone-min',
            jquery: 'components/jquery/jquery.min',
            bootstrap: 'components/bootstrap/js/bootstrap.min',
            bootstraptour: 'components/bootstrap-tour/build/js/bootstrap-tour.min',
            'jquery-ui': 'components/jquery-ui/ui/minified/jquery-ui.min',
            moment: 'components/moment/moment',
            codemirror: 'components/codemirror',
            termjs: 'components/xterm.js/dist/xterm',
            typeahead: 'components/jquery-typeahead/dist/jquery.typeahead.min',
          },
          map: { // for backward compatibility
              "*": {
                  "jqueryui": "jquery-ui",
              }
          },
          shim: {
            typeahead: {
              deps: ["jquery"],
              exports: "typeahead"
            },
            underscore: {
              exports: '_'
            },
            backbone: {
              deps: ["underscore", "jquery"],
              exports: "Backbone"
            },
            bootstrap: {
              deps: ["jquery"],
              exports: "bootstrap"
            },
            bootstraptour: {
              deps: ["bootstrap"],
              exports: "Tour"
            },
            "jquery-ui": {
              deps: ["jquery"],
              exports: "$"
            }
          },
          waitSeconds: 30,
      });

      require.config({
          map: {
              '*':{
                'contents': 'services/contents',
              }
          }
      });

      // error-catching custom.js shim.
      define("custom", function (require, exports, module) {
          try {
              var custom = require('custom/custom');
              console.debug('loaded custom.js');
              return custom;
          } catch (e) {
              console.error("error loading custom.js", e);
              return {};
          }
      })
    </script>

    
    

<script type="text/javascript" charset="utf-8" async="" data-requirecontext="_" data-requiremodule="services/contents" src="./LinearRegression_files/contents.js"></script><script type="text/javascript" charset="utf-8" async="" data-requirecontext="_" data-requiremodule="custom/custom" src="./LinearRegression_files/custom.js"></script><style type="text/css">.MathJax_Hover_Frame {border-radius: .25em; -webkit-border-radius: .25em; -moz-border-radius: .25em; -khtml-border-radius: .25em; box-shadow: 0px 0px 15px #83A; -webkit-box-shadow: 0px 0px 15px #83A; -moz-box-shadow: 0px 0px 15px #83A; -khtml-box-shadow: 0px 0px 15px #83A; border: 1px solid #A6D ! important; display: inline-block; position: absolute}
.MathJax_Menu_Button .MathJax_Hover_Arrow {position: absolute; cursor: pointer; display: inline-block; border: 2px solid #AAA; border-radius: 4px; -webkit-border-radius: 4px; -moz-border-radius: 4px; -khtml-border-radius: 4px; font-family: 'Courier New',Courier; font-size: 9px; color: #F0F0F0}
.MathJax_Menu_Button .MathJax_Hover_Arrow span {display: block; background-color: #AAA; border: 1px solid; border-radius: 3px; line-height: 0; padding: 4px}
.MathJax_Hover_Arrow:hover {color: white!important; border: 2px solid #CCC!important}
.MathJax_Hover_Arrow:hover span {background-color: #CCC!important}
</style><style type="text/css">#MathJax_About {position: fixed; left: 50%; width: auto; text-align: center; border: 3px outset; padding: 1em 2em; background-color: #DDDDDD; color: black; cursor: default; font-family: message-box; font-size: 120%; font-style: normal; text-indent: 0; text-transform: none; line-height: normal; letter-spacing: normal; word-spacing: normal; word-wrap: normal; white-space: nowrap; float: none; z-index: 201; border-radius: 15px; -webkit-border-radius: 15px; -moz-border-radius: 15px; -khtml-border-radius: 15px; box-shadow: 0px 10px 20px #808080; -webkit-box-shadow: 0px 10px 20px #808080; -moz-box-shadow: 0px 10px 20px #808080; -khtml-box-shadow: 0px 10px 20px #808080; filter: progid:DXImageTransform.Microsoft.dropshadow(OffX=2, OffY=2, Color='gray', Positive='true')}
#MathJax_About.MathJax_MousePost {outline: none}
.MathJax_Menu {position: absolute; background-color: white; color: black; width: auto; padding: 5px 0px; border: 1px solid #CCCCCC; margin: 0; cursor: default; font: menu; text-align: left; text-indent: 0; text-transform: none; line-height: normal; letter-spacing: normal; word-spacing: normal; word-wrap: normal; white-space: nowrap; float: none; z-index: 201; border-radius: 5px; -webkit-border-radius: 5px; -moz-border-radius: 5px; -khtml-border-radius: 5px; box-shadow: 0px 10px 20px #808080; -webkit-box-shadow: 0px 10px 20px #808080; -moz-box-shadow: 0px 10px 20px #808080; -khtml-box-shadow: 0px 10px 20px #808080; filter: progid:DXImageTransform.Microsoft.dropshadow(OffX=2, OffY=2, Color='gray', Positive='true')}
.MathJax_MenuItem {padding: 1px 2em; background: transparent}
.MathJax_MenuArrow {position: absolute; right: .5em; padding-top: .25em; color: #666666; font-size: .75em}
.MathJax_MenuActive .MathJax_MenuArrow {color: white}
.MathJax_MenuArrow.RTL {left: .5em; right: auto}
.MathJax_MenuCheck {position: absolute; left: .7em}
.MathJax_MenuCheck.RTL {right: .7em; left: auto}
.MathJax_MenuRadioCheck {position: absolute; left: .7em}
.MathJax_MenuRadioCheck.RTL {right: .7em; left: auto}
.MathJax_MenuLabel {padding: 1px 2em 3px 1.33em; font-style: italic}
.MathJax_MenuRule {border-top: 1px solid #DDDDDD; margin: 4px 3px}
.MathJax_MenuDisabled {color: GrayText}
.MathJax_MenuActive {background-color: #606872; color: white}
.MathJax_MenuDisabled:focus, .MathJax_MenuLabel:focus {background-color: #E8E8E8}
.MathJax_ContextMenu:focus {outline: none}
.MathJax_ContextMenu .MathJax_MenuItem:focus {outline: none}
#MathJax_AboutClose {top: .2em; right: .2em}
.MathJax_Menu .MathJax_MenuClose {top: -10px; left: -10px}
.MathJax_MenuClose {position: absolute; cursor: pointer; display: inline-block; border: 2px solid #AAA; border-radius: 18px; -webkit-border-radius: 18px; -moz-border-radius: 18px; -khtml-border-radius: 18px; font-family: 'Courier New',Courier; font-size: 24px; color: #F0F0F0}
.MathJax_MenuClose span {display: block; background-color: #AAA; border: 1.5px solid; border-radius: 18px; -webkit-border-radius: 18px; -moz-border-radius: 18px; -khtml-border-radius: 18px; line-height: 0; padding: 8px 0 6px}
.MathJax_MenuClose:hover {color: white!important; border: 2px solid #CCC!important}
.MathJax_MenuClose:hover span {background-color: #CCC!important}
.MathJax_MenuClose:hover:focus {outline: none}
</style><style type="text/css">.MathJax_Preview .MJXf-math {color: inherit!important}
</style><style type="text/css">.MJX_Assistive_MathML {position: absolute!important; top: 0; left: 0; clip: rect(1px, 1px, 1px, 1px); padding: 1px 0 0 0!important; border: 0!important; height: 1px!important; width: 1px!important; overflow: hidden!important; display: block!important}
.MJX_Assistive_MathML.MJX_Assistive_MathML_Block {width: 100%!important}
</style><style type="text/css">#MathJax_Zoom {position: absolute; background-color: #F0F0F0; overflow: auto; display: block; z-index: 301; padding: .5em; border: 1px solid black; margin: 0; font-weight: normal; font-style: normal; text-align: left; text-indent: 0; text-transform: none; line-height: normal; letter-spacing: normal; word-spacing: normal; word-wrap: normal; white-space: nowrap; float: none; -webkit-box-sizing: content-box; -moz-box-sizing: content-box; box-sizing: content-box; box-shadow: 5px 5px 15px #AAAAAA; -webkit-box-shadow: 5px 5px 15px #AAAAAA; -moz-box-shadow: 5px 5px 15px #AAAAAA; -khtml-box-shadow: 5px 5px 15px #AAAAAA; filter: progid:DXImageTransform.Microsoft.dropshadow(OffX=2, OffY=2, Color='gray', Positive='true')}
#MathJax_ZoomOverlay {position: absolute; left: 0; top: 0; z-index: 300; display: inline-block; width: 100%; height: 100%; border: 0; padding: 0; margin: 0; background-color: white; opacity: 0; filter: alpha(opacity=0)}
#MathJax_ZoomFrame {position: relative; display: inline-block; height: 0; width: 0}
#MathJax_ZoomEventTrap {position: absolute; left: 0; top: 0; z-index: 302; display: inline-block; border: 0; padding: 0; margin: 0; background-color: white; opacity: 0; filter: alpha(opacity=0)}
</style><style type="text/css">.MathJax_Preview {color: #888}
#MathJax_Message {position: fixed; left: 1em; bottom: 1.5em; background-color: #E6E6E6; border: 1px solid #959595; margin: 0px; padding: 2px 8px; z-index: 102; color: black; font-size: 80%; width: auto; white-space: nowrap}
#MathJax_MSIE_Frame {position: absolute; top: 0; left: 0; width: 0px; z-index: 101; border: 0px; margin: 0px; padding: 0px}
.MathJax_Error {color: #CC0000; font-style: italic}
</style><script type="text/javascript" charset="utf-8" async="" data-requirecontext="_" data-requiremodule="nbextensions/jupyter-js-widgets/extension" src="./LinearRegression_files/extension.js"></script><style type="text/css">div.MathJax_MathML {text-align: center; margin: .75em 0px; display: block!important}
.MathJax_MathML {font-style: normal; font-weight: normal; line-height: normal; font-size: 100%; font-size-adjust: none; text-indent: 0; text-align: left; text-transform: none; letter-spacing: normal; word-spacing: normal; word-wrap: normal; white-space: nowrap; float: none; direction: ltr; max-width: none; max-height: none; min-width: 0; min-height: 0; border: 0; padding: 0; margin: 0}
span.MathJax_MathML {display: inline!important}
.MathJax_mmlExBox {display: block!important; overflow: hidden; height: 1px; width: 60ex; min-height: 0; max-height: none; padding: 0; border: 0; margin: 0}
[class="MJX-tex-oldstyle"] {font-family: MathJax_Caligraphic, MathJax_Caligraphic-WEB}
[class="MJX-tex-oldstyle-bold"] {font-family: MathJax_Caligraphic, MathJax_Caligraphic-WEB; font-weight: bold}
[class="MJX-tex-caligraphic"] {font-family: MathJax_Caligraphic, MathJax_Caligraphic-WEB}
[class="MJX-tex-caligraphic-bold"] {font-family: MathJax_Caligraphic, MathJax_Caligraphic-WEB; font-weight: bold}
@font-face /*1*/ {font-family: MathJax_Caligraphic-WEB; src: url('http://localhost:8888/static/components/MathJax/fonts/HTML-CSS/TeX/otf/MathJax_Caligraphic-Regular.otf')}
@font-face /*2*/ {font-family: MathJax_Caligraphic-WEB; font-weight: bold; src: url('http://localhost:8888/static/components/MathJax/fonts/HTML-CSS/TeX/otf/MathJax_Caligraphic-Bold.otf')}
[mathvariant="double-struck"] {font-family: MathJax_AMS, MathJax_AMS-WEB}
[mathvariant="script"] {font-family: MathJax_Script, MathJax_Script-WEB}
[mathvariant="fraktur"] {font-family: MathJax_Fraktur, MathJax_Fraktur-WEB}
[mathvariant="bold-script"] {font-family: MathJax_Script, MathJax_Caligraphic-WEB; font-weight: bold}
[mathvariant="bold-fraktur"] {font-family: MathJax_Fraktur, MathJax_Fraktur-WEB; font-weight: bold}
[mathvariant="monospace"] {font-family: monospace}
[mathvariant="sans-serif"] {font-family: sans-serif}
[mathvariant="bold-sans-serif"] {font-family: sans-serif; font-weight: bold}
[mathvariant="sans-serif-italic"] {font-family: sans-serif; font-style: italic}
[mathvariant="sans-serif-bold-italic"] {font-family: sans-serif; font-style: italic; font-weight: bold}
@font-face /*3*/ {font-family: MathJax_AMS-WEB; src: url('http://localhost:8888/static/components/MathJax/fonts/HTML-CSS/TeX/otf/MathJax_AMS-Regular.otf')}
@font-face /*4*/ {font-family: MathJax_Script-WEB; src: url('http://localhost:8888/static/components/MathJax/fonts/HTML-CSS/TeX/otf/MathJax_Script-Regular.otf')}
@font-face /*5*/ {font-family: MathJax_Fraktur-WEB; src: url('http://localhost:8888/static/components/MathJax/fonts/HTML-CSS/TeX/otf/MathJax_Fraktur-Regular.otf')}
@font-face /*6*/ {font-family: MathJax_Fraktur-WEB; font-weight: bold; src: url('http://localhost:8888/static/components/MathJax/fonts/HTML-CSS/TeX/otf/MathJax_Fraktur-Bold.otf')}
</style><style type="text/css">.MJXp-script {font-size: .8em}
.MJXp-right {-webkit-transform-origin: right; -moz-transform-origin: right; -ms-transform-origin: right; -o-transform-origin: right; transform-origin: right}
.MJXp-bold {font-weight: bold}
.MJXp-italic {font-style: italic}
.MJXp-scr {font-family: MathJax_Script,'Times New Roman',Times,STIXGeneral,serif}
.MJXp-frak {font-family: MathJax_Fraktur,'Times New Roman',Times,STIXGeneral,serif}
.MJXp-sf {font-family: MathJax_SansSerif,'Times New Roman',Times,STIXGeneral,serif}
.MJXp-cal {font-family: MathJax_Caligraphic,'Times New Roman',Times,STIXGeneral,serif}
.MJXp-mono {font-family: MathJax_Typewriter,'Times New Roman',Times,STIXGeneral,serif}
.MJXp-largeop {font-size: 150%}
.MJXp-largeop.MJXp-int {vertical-align: -.2em}
.MJXp-math {display: inline-block; line-height: 1.2; text-indent: 0; font-family: 'Times New Roman',Times,STIXGeneral,serif; white-space: nowrap; border-collapse: collapse}
.MJXp-display {display: block; text-align: center; margin: 1em 0}
.MJXp-math span {display: inline-block}
.MJXp-box {display: block!important; text-align: center}
.MJXp-box:after {content: " "}
.MJXp-rule {display: block!important; margin-top: .1em}
.MJXp-char {display: block!important}
.MJXp-mo {margin: 0 .15em}
.MJXp-mfrac {margin: 0 .125em; vertical-align: .25em}
.MJXp-denom {display: inline-table!important; width: 100%}
.MJXp-denom > * {display: table-row!important}
.MJXp-surd {vertical-align: top}
.MJXp-surd > * {display: block!important}
.MJXp-script-box > *  {display: table!important; height: 50%}
.MJXp-script-box > * > * {display: table-cell!important; vertical-align: top}
.MJXp-script-box > *:last-child > * {vertical-align: bottom}
.MJXp-script-box > * > * > * {display: block!important}
.MJXp-mphantom {visibility: hidden}
.MJXp-munderover {display: inline-table!important}
.MJXp-over {display: inline-block!important; text-align: center}
.MJXp-over > * {display: block!important}
.MJXp-munderover > * {display: table-row!important}
.MJXp-mtable {vertical-align: .25em; margin: 0 .125em}
.MJXp-mtable > * {display: inline-table!important; vertical-align: middle}
.MJXp-mtr {display: table-row!important}
.MJXp-mtd {display: table-cell!important; text-align: center; padding: .5em 0 0 .5em}
.MJXp-mtr > .MJXp-mtd:first-child {padding-left: 0}
.MJXp-mtr:first-child > .MJXp-mtd {padding-top: 0}
.MJXp-mlabeledtr {display: table-row!important}
.MJXp-mlabeledtr > .MJXp-mtd:first-child {padding-left: 0}
.MJXp-mlabeledtr:first-child > .MJXp-mtd {padding-top: 0}
.MJXp-merror {background-color: #FFFF88; color: #CC0000; border: 1px solid #CC0000; padding: 1px 3px; font-style: normal; font-size: 90%}
.MJXp-scale0 {-webkit-transform: scaleX(.0); -moz-transform: scaleX(.0); -ms-transform: scaleX(.0); -o-transform: scaleX(.0); transform: scaleX(.0)}
.MJXp-scale1 {-webkit-transform: scaleX(.1); -moz-transform: scaleX(.1); -ms-transform: scaleX(.1); -o-transform: scaleX(.1); transform: scaleX(.1)}
.MJXp-scale2 {-webkit-transform: scaleX(.2); -moz-transform: scaleX(.2); -ms-transform: scaleX(.2); -o-transform: scaleX(.2); transform: scaleX(.2)}
.MJXp-scale3 {-webkit-transform: scaleX(.3); -moz-transform: scaleX(.3); -ms-transform: scaleX(.3); -o-transform: scaleX(.3); transform: scaleX(.3)}
.MJXp-scale4 {-webkit-transform: scaleX(.4); -moz-transform: scaleX(.4); -ms-transform: scaleX(.4); -o-transform: scaleX(.4); transform: scaleX(.4)}
.MJXp-scale5 {-webkit-transform: scaleX(.5); -moz-transform: scaleX(.5); -ms-transform: scaleX(.5); -o-transform: scaleX(.5); transform: scaleX(.5)}
.MJXp-scale6 {-webkit-transform: scaleX(.6); -moz-transform: scaleX(.6); -ms-transform: scaleX(.6); -o-transform: scaleX(.6); transform: scaleX(.6)}
.MJXp-scale7 {-webkit-transform: scaleX(.7); -moz-transform: scaleX(.7); -ms-transform: scaleX(.7); -o-transform: scaleX(.7); transform: scaleX(.7)}
.MJXp-scale8 {-webkit-transform: scaleX(.8); -moz-transform: scaleX(.8); -ms-transform: scaleX(.8); -o-transform: scaleX(.8); transform: scaleX(.8)}
.MJXp-scale9 {-webkit-transform: scaleX(.9); -moz-transform: scaleX(.9); -ms-transform: scaleX(.9); -o-transform: scaleX(.9); transform: scaleX(.9)}
.MathJax_PHTML .noError {vertical-align: ; font-size: 90%; text-align: left; color: black; padding: 1px 3px; border: 1px solid}
</style><style type="text/css">.MathJax_Display {text-align: center; margin: 0; position: relative; display: block!important; text-indent: 0; max-width: none; max-height: none; min-width: 0; min-height: 0; width: 100%}
.MathJax .merror {background-color: #FFFF88; color: #CC0000; border: 1px solid #CC0000; padding: 1px 3px; font-style: normal; font-size: 90%}
.MathJax .MJX-monospace {font-family: monospace}
.MathJax .MJX-sans-serif {font-family: sans-serif}
#MathJax_Tooltip {background-color: InfoBackground; color: InfoText; border: 1px solid black; box-shadow: 2px 2px 5px #AAAAAA; -webkit-box-shadow: 2px 2px 5px #AAAAAA; -moz-box-shadow: 2px 2px 5px #AAAAAA; -khtml-box-shadow: 2px 2px 5px #AAAAAA; filter: progid:DXImageTransform.Microsoft.dropshadow(OffX=2, OffY=2, Color='gray', Positive='true'); padding: 3px 4px; z-index: 401; position: absolute; left: 0; top: 0; width: auto; height: auto; display: none}
.MathJax {display: inline; font-style: normal; font-weight: normal; line-height: normal; font-size: 100%; font-size-adjust: none; text-indent: 0; text-align: left; text-transform: none; letter-spacing: normal; word-spacing: normal; word-wrap: normal; white-space: nowrap; float: none; direction: ltr; max-width: none; max-height: none; min-width: 0; min-height: 0; border: 0; padding: 0; margin: 0}
.MathJax:focus, body :focus .MathJax {display: inline-table}
.MathJax img, .MathJax nobr, .MathJax a {border: 0; padding: 0; margin: 0; max-width: none; max-height: none; min-width: 0; min-height: 0; vertical-align: 0; line-height: normal; text-decoration: none}
img.MathJax_strut {border: 0!important; padding: 0!important; margin: 0!important; vertical-align: 0!important}
.MathJax span {display: inline; position: static; border: 0; padding: 0; margin: 0; vertical-align: 0; line-height: normal; text-decoration: none}
.MathJax nobr {white-space: nowrap!important}
.MathJax img {display: inline!important; float: none!important}
.MathJax * {transition: none; -webkit-transition: none; -moz-transition: none; -ms-transition: none; -o-transition: none}
.MathJax_Processing {visibility: hidden; position: fixed; width: 0; height: 0; overflow: hidden}
.MathJax_Processed {display: none!important}
.MathJax_ExBox {display: block!important; overflow: hidden; width: 1px; height: 60ex; min-height: 0; max-height: none}
.MathJax .MathJax_EmBox {display: block!important; overflow: hidden; width: 1px; height: 60em; min-height: 0; max-height: none}
.MathJax .MathJax_HitBox {cursor: text; background: white; opacity: 0; filter: alpha(opacity=0)}
.MathJax .MathJax_HitBox * {filter: none; opacity: 1; background: transparent}
#MathJax_Tooltip * {filter: none; opacity: 1; background: transparent}
@font-face {font-family: MathJax_Blank; src: url('about:blank')}
.MathJax .noError {vertical-align: ; font-size: 90%; text-align: left; color: black; padding: 1px 3px; border: 1px solid}
</style><style type="text/css">/*
 +------------------------------------------+
 | widget-area                              |
 |  +--------+---------------------------+  |
 |  | prompt | widget-subarea            |  |
 |  |        | +-----------------------+ |  |
 |  |        | |         widget        | |  |
 |  |        | +-----------------------+ |  |
 |  |        | +-----------------------+ |  |
 |  |        | |         widget        | |  |
 |  |        | +-----------------------+ |  |
 |  +--------+---------------------------+  |
 +------------------------------------------+
*/

.widget-area {
	page-break-inside : avoid;
    display: -webkit-box;
    display: -ms-flexbox;
    display: flex;
    -webkit-box-orient: horizontal;
    -webkit-box-direction: normal;
        -ms-flex-direction: row;
            flex-direction: row;
    -webkit-box-align: stretch;
        -ms-flex-align: stretch;
            align-items: stretch;
}

.widget-area.connection-problems .prompt:after {
    content: "\F127"; /* chain-broken */
    font-family: "FontAwesome";
    color: #d9534f;
    top: 3px;
    padding: 3px;
}

.widget-area .widget-subarea {
    min-width: 0px;
    padding: 0.4em 0 0.4em 0;
    display: -webkit-box;
    display: -ms-flexbox;
    display: flex;
    -webkit-box-flex: 2;
        -ms-flex: 2;
            flex: 2;
    -webkit-box-align: start;
        -ms-flex-align: start;
            align-items: flex-start;
    -webkit-box-orient: vertical;
    -webkit-box-direction: normal;
        -ms-flex-direction: column;
            flex-direction: column;
    -webkit-box-align: stretch;
        -ms-flex-align: stretch;
            align-items: stretch;
    box-sizing: border-box;
    -moz-box-sizing: border-box;
    -webkit-box-sizing: border-box;
}
</style><style type="text/css">/*-----------------------------------------------------------------------------
| Copyright (c) 2014-2016, PhosphorJS Contributors
|
| Distributed under the terms of the BSD 3-Clause License.
|
| The full license is in the file LICENSE, distributed with this software.
|----------------------------------------------------------------------------*/


/*-----------------------------------------------------------------------------
| dom/cursor
|----------------------------------------------------------------------------*/


body.p-mod-override-cursor * {
  cursor: inherit !important;
}


/*-----------------------------------------------------------------------------
| ui/widget
|----------------------------------------------------------------------------*/


.p-Widget {
  box-sizing: border-box;
  position: relative;
  overflow: hidden;
  cursor: default;
}


.p-Widget.p-mod-hidden {
  display: none;
}


/*-----------------------------------------------------------------------------
| ui/commandpalette
|----------------------------------------------------------------------------*/


.p-CommandPalette {
  display: -webkit-box;
  display: -ms-flexbox;
  display: flex;
  -webkit-box-orient: vertical;
  -webkit-box-direction: normal;
      -ms-flex-direction: column;
          flex-direction: column;
  -webkit-user-select: none;
  -moz-user-select: none;
  -ms-user-select: none;
  user-select: none;
}


.p-CommandPalette-search {
  -webkit-box-flex: 0;
      -ms-flex: 0 0 auto;
          flex: 0 0 auto;
}


.p-CommandPalette-content {
  -webkit-box-flex: 1;
      -ms-flex: 1 1 auto;
          flex: 1 1 auto;
  margin: 0;
  padding: 0;
  min-height: 0;
  overflow: auto;
  list-style-type: none;
}


.p-CommandPalette-header {
  overflow: hidden;
  white-space: nowrap;
  text-overflow: ellipsis;
  text-transform: capitalize;
}


.p-CommandPalette-itemShortcut {
  float: right;
}


.p-CommandPalette-itemLabel {
  overflow: hidden;
  white-space: nowrap;
  text-overflow: ellipsis;
}


/*-----------------------------------------------------------------------------
| ui/menu
|----------------------------------------------------------------------------*/


.p-Menu {
  position: absolute;
  white-space: nowrap;
  overflow-x: hidden;
  overflow-y: auto;
  outline: none;
  -webkit-user-select: none;
  -moz-user-select: none;
  -ms-user-select: none;
  user-select: none;
}


.p-Menu-content {
  margin: 0;
  padding: 0;
  display: table;
  list-style-type: none;
}


.p-Menu-item {
  display: table-row;
}


.p-Menu-item.p-mod-hidden {
  display: none;
}


.p-Menu-itemIcon,
.p-Menu-itemSubmenuIcon {
  display: table-cell;
  text-align: center;
}


.p-Menu-itemLabel {
  display: table-cell;
  text-align: left;
}


.p-Menu-itemShortcut {
  display: table-cell;
  text-align: right;
}


/*-----------------------------------------------------------------------------
| ui/menubar
|----------------------------------------------------------------------------*/


.p-MenuBar {
  outline: none;
  -webkit-user-select: none;
  -moz-user-select: none;
  -ms-user-select: none;
  user-select: none;
}


.p-MenuBar-content {
  margin: 0;
  padding: 0;
  display: -webkit-box;
  display: -ms-flexbox;
  display: flex;
  -webkit-box-orient: horizontal;
  -webkit-box-direction: normal;
      -ms-flex-direction: row;
          flex-direction: row;
  list-style-type: none;
}


.p-MenuBar-item {
  box-sizing: border-box;
}


.p-MenuBar-itemIcon,
.p-MenuBar-itemLabel {
  display: inline-block;
}


/*-----------------------------------------------------------------------------
| ui/splitpanel
|----------------------------------------------------------------------------*/


.p-SplitPanel-child {
  z-index: 0;
}


.p-SplitPanel-handle {
  z-index: 1;
}


.p-SplitPanel-handle.p-mod-hidden {
  display: none;
}


.p-SplitPanel-handle:after {
  position: absolute;
  top: 0;
  left: 0;
  width: 100%;
  height: 100%;
  content: '';
}


.p-SplitPanel.p-mod-horizontal > .p-SplitPanel-handle {
  cursor: ew-resize;
}


.p-SplitPanel.p-mod-vertical > .p-SplitPanel-handle {
  cursor: ns-resize;
}


.p-SplitPanel.p-mod-horizontal > .p-SplitPanel-handle:after {
  left: 50%;
  min-width: 8px;
  -webkit-transform: translateX(-50%);
          transform: translateX(-50%);
}


.p-SplitPanel.p-mod-vertical > .p-SplitPanel-handle:after {
  top: 50%;
  min-height: 8px;
  -webkit-transform: translateY(-50%);
          transform: translateY(-50%);
}


/*-----------------------------------------------------------------------------
| ui/tabbar
|----------------------------------------------------------------------------*/


.p-TabBar {
  display: -webkit-box;
  display: -ms-flexbox;
  display: flex;
  -webkit-user-select: none;
  -moz-user-select: none;
  -ms-user-select: none;
  user-select: none;
}


.p-TabBar.p-mod-horizontal {
  -webkit-box-orient: horizontal;
  -webkit-box-direction: normal;
      -ms-flex-direction: row;
          flex-direction: row;
}


.p-TabBar.p-mod-vertical {
  -webkit-box-orient: vertical;
  -webkit-box-direction: normal;
      -ms-flex-direction: column;
          flex-direction: column;
}


.p-TabBar-content {
  margin: 0;
  padding: 0;
  display: -webkit-box;
  display: -ms-flexbox;
  display: flex;
  -webkit-box-flex: 1;
      -ms-flex: 1 1 auto;
          flex: 1 1 auto;
  list-style-type: none;
}


.p-TabBar.p-mod-horizontal > .p-TabBar-content {
  -webkit-box-orient: horizontal;
  -webkit-box-direction: normal;
      -ms-flex-direction: row;
          flex-direction: row;
}


.p-TabBar.p-mod-vertical > .p-TabBar-content {
  -webkit-box-orient: vertical;
  -webkit-box-direction: normal;
      -ms-flex-direction: column;
          flex-direction: column;
}


.p-TabBar-tab {
  display: -webkit-box;
  display: -ms-flexbox;
  display: flex;
  -webkit-box-orient: horizontal;
  -webkit-box-direction: normal;
      -ms-flex-direction: row;
          flex-direction: row;
  box-sizing: border-box;
  overflow: hidden;
}


.p-TabBar-tabIcon,
.p-TabBar-tabCloseIcon {
  -webkit-box-flex: 0;
      -ms-flex: 0 0 auto;
          flex: 0 0 auto;
}


.p-TabBar-tabLabel {
  -webkit-box-flex: 1;
      -ms-flex: 1 1 auto;
          flex: 1 1 auto;
  overflow: hidden;
  white-space: nowrap;
}


.p-TabBar-tab.p-mod-hidden {
  display: none;
}


.p-TabBar.p-mod-dragging .p-TabBar-tab {
  position: relative;
}


.p-TabBar.p-mod-horizontal.p-mod-dragging .p-TabBar-tab {
  left: 0;
  -webkit-transition: left 150ms ease;
  transition: left 150ms ease;
}


.p-TabBar.p-mod-vertical.p-mod-dragging .p-TabBar-tab {
  top: 0;
  -webkit-transition: top 150ms ease;
  transition: top 150ms ease;
}


.p-TabBar.p-mod-dragging .p-TabBar-tab.p-mod-dragging {
  -webkit-transition: none;
  transition: none;
}


/*-----------------------------------------------------------------------------
| ui/tabpanel
|----------------------------------------------------------------------------*/


.p-TabPanel-tabBar {
  z-index: 1;
}


.p-TabPanel-stackedPanel {
  z-index: 0;
}


/*-----------------------------------------------------------------------------
| ui/dockpanel
|----------------------------------------------------------------------------*/


.p-DockPanel {
  z-index: 0;
}


.p-DockPanel-widget {
  z-index: 0;
}


.p-DockPanel-tabBar {
  z-index: 1;
}


.p-DockPanel-handle {
  z-index: 2;
}


.p-DockPanel-handle.p-mod-hidden {
  display: none;
}


.p-DockPanel-handle:after {
  position: absolute;
  top: 0;
  left: 0;
  width: 100%;
  height: 100%;
  content: '';
}


.p-DockPanel-handle.p-mod-horizontal {
  cursor: ew-resize;
}


.p-DockPanel-handle.p-mod-vertical {
  cursor: ns-resize;
}


.p-DockPanel-handle.p-mod-horizontal:after {
  left: 50%;
  min-width: 8px;
  -webkit-transform: translateX(-50%);
          transform: translateX(-50%);
}


.p-DockPanel-handle.p-mod-vertical:after {
  top: 50%;
  min-height: 8px;
  -webkit-transform: translateY(-50%);
          transform: translateY(-50%);
}


.p-DockPanel-overlay {
  z-index: 3;
  box-sizing: border-box;
  pointer-events: none;
}


.p-DockPanel-overlay.p-mod-hidden {
  display: none;
}
</style><style type="text/css">/* Copyright (c) Jupyter Development Team.
 * Distributed under the terms of the Modified BSD License.
 */

/* We import all of these together in a single css file because the Webpack
loader sees only one file at a time. This allows postcss to see the variable
definitions when they are used. */

/*-----------------------------------------------------------------------------
| Copyright (c) Jupyter Development Team.
| Distributed under the terms of the Modified BSD License.
|----------------------------------------------------------------------------*/

/**
 * The material design colors are adapted from google-material-color v1.2.6
 * https://github.com/danlevan/google-material-color
 * https://github.com/danlevan/google-material-color/blob/f67ca5f4028b2f1b34862f64b0ca67323f91b088/dist/palette.var.css
 *
 * The license for the material design color CSS variables is as follows (see
 * https://github.com/danlevan/google-material-color/blob/f67ca5f4028b2f1b34862f64b0ca67323f91b088/LICENSE)
 *
 * The MIT License (MIT)
 *
 * Copyright (c) 2014 Dan Le Van
 *
 * Permission is hereby granted, free of charge, to any person obtaining a copy
 * of this software and associated documentation files (the "Software"), to deal
 * in the Software without restriction, including without limitation the rights
 * to use, copy, modify, merge, publish, distribute, sublicense, and/or sell
 * copies of the Software, and to permit persons to whom the Software is
 * furnished to do so, subject to the following conditions:
 *
 * The above copyright notice and this permission notice shall be included in
 * all copies or substantial portions of the Software.
 *
 * THE SOFTWARE IS PROVIDED "AS IS", WITHOUT WARRANTY OF ANY KIND, EXPRESS OR
 * IMPLIED, INCLUDING BUT NOT LIMITED TO THE WARRANTIES OF MERCHANTABILITY,
 * FITNESS FOR A PARTICULAR PURPOSE AND NONINFRINGEMENT. IN NO EVENT SHALL THE
 * AUTHORS OR COPYRIGHT HOLDERS BE LIABLE FOR ANY CLAIM, DAMAGES OR OTHER
 * LIABILITY, WHETHER IN AN ACTION OF CONTRACT, TORT OR OTHERWISE, ARISING FROM,
 * OUT OF OR IN CONNECTION WITH THE SOFTWARE OR THE USE OR OTHER DEALINGS IN THE
 * SOFTWARE.
 */

/*
The following CSS variables define the main, public API for styling JupyterLab.
These variables should be used by all plugins wherever possible. In other
words, plugins should not define custom colors, sizes, etc unless absolutely
necessary. This enables users to change the visual theme of JupyterLab
by changing these variables.

Many variables appear in an ordered sequence (0,1,2,3). These sequences
are designed to work well together, so for example, `--jp-border-color1` should
be used with `--jp-layout-color1`. The numbers have the following meanings:

* 0: super-primary, reserved for special emphasis
* 1: primary, most important under normal situations
* 2: secondary, next most important under normal situations
* 3: tertiary, next most important under normal situations

Throughout JupyterLab, we are mostly following principles from Google's
Material Design when selecting colors. We are not, however, following 
all of MD as it is not optimized for dense, information rich UIs.
*/

:root {

  /* Borders
  
  The following variables, specify the visual styling of borders in JupyterLab.
   */

  /* UI Fonts
  
  The UI font CSS variables are used for the typography all of the JupyterLab
  user interface elements that are not directly user generated content.
  */ /* Base font size */ /* Ensures px perfect FontAwesome icons */

  /* Use these font colors against the corresponding main layout colors.
     In a light theme, these go from dark to light.
  */
  
  /* Use these against the brand/accent/warn/error colors.
     These will typically go from light to darker, in both a dark and light theme
   */

  /* Content Fonts
  
  Content font variables are used for typography of user generated content.
  */ /* Base font size */

  /* Layout
  
  The following are the main layout colors use in JupyterLab. In a light
  theme these would go from light to dark.
  */

  /* Brand/accent */

  /* State colors (warn, error, success, info) */

}

/* Copyright (c) Jupyter Development Team.
 * Distributed under the terms of the Modified BSD License.
 */

/*
 * We assume that the CSS variables in
 * https://github.com/jupyterlab/jupyterlab/blob/master/src/default-theme/variables.css
 * have been defined.
 */

:root { /* margin between inline elements */

    /* From Material Design Lite */
}

.jupyter-widgets {
    margin: 2px;
    box-sizing: border-box;
    color: black;
    overflow: visible;
}

.jp-Output-result > .jupyter-widgets {
    margin-left: 0;
    margin-right: 0;
}

/* vbox and hbox */

.widget-inline-hbox {
    /* Horizontal widgets */
    box-sizing: border-box;
    display: -webkit-box;
    display: -ms-flexbox;
    display: flex;
    -webkit-box-orient: horizontal;
    -webkit-box-direction: normal;
        -ms-flex-direction: row;
            flex-direction: row;
    -webkit-box-align: baseline;
        -ms-flex-align: baseline;
            align-items: baseline;
}

.widget-inline-vbox {
    /* Vertical Widgets */
    box-sizing: border-box;
    display: -webkit-box;
    display: -ms-flexbox;
    display: flex;
    -webkit-box-orient: vertical;
    -webkit-box-direction: normal;
        -ms-flex-direction: column;
            flex-direction: column;
    -webkit-box-align: stretch;
        -ms-flex-align: stretch;
            align-items: stretch;
}

.widget-box {
    box-sizing: border-box;
    display: -webkit-box;
    display: -ms-flexbox;
    display: flex;
    margin: 0;
}

.widget-hbox {
    -webkit-box-orient: horizontal;
    -webkit-box-direction: normal;
        -ms-flex-direction: row;
            flex-direction: row;
}

.widget-vbox {
    -webkit-box-orient: vertical;
    -webkit-box-direction: normal;
        -ms-flex-direction: column;
            flex-direction: column;
}

/* General Button Styling */

.jupyter-button {
    padding: 0;
    display: inline-block;
    white-space: nowrap;
    overflow: hidden;
    text-overflow: ellipsis;
    text-align: center;
    font-size: 13px;
    cursor: pointer;

    height: 28px;
    border: 0px solid;
    line-height: 28px;
    box-shadow: none;

    color: rgba(0, 0, 0, .87);
    background-color: #EEEEEE;
    border-color: #E0E0E0;
    border: none;
}

.jupyter-button i.fa {
    margin-right: 4px;
    pointer-events: none;
}

.jupyter-button:empty:before {
    content: "\200B"; /* zero-width space */
}

.jupyter-button i.fa.center {
    margin-right: 0;
}

.jupyter-button:hover, .jupyter-button:focus {
    /* MD Lite 2dp shadow */
    box-shadow: 0 2px 2px 0 rgba(0, 0, 0, .14),
                0 3px 1px -2px rgba(0, 0, 0, .2),
                0 1px 5px 0 rgba(0, 0, 0, .12);
}

.jupyter-button:active, .jupyter-button.mod-active {
    /* MD Lite 4dp shadow */
    box-shadow: 0 4px 5px 0 rgba(0, 0, 0, .14),
                0 1px 10px 0 rgba(0, 0, 0, .12),
                0 2px 4px -1px rgba(0, 0, 0, .2);
    color: rgba(0, 0, 0, .87);
    background-color: #BDBDBD;
}

.jupyter-button:focus {
    outline: 1px solid #64B5F6;
}

/* Button "Primary" Styling */

.jupyter-button.mod-primary {
    color: rgba(255, 255, 255, 1.0);
    background-color: #2196F3;
}

.jupyter-button.mod-primary.mod-active {
    color: rgba(255, 255, 255, 1);
    background-color: #1976D2;
}

.jupyter-button.mod-primary:active {
    color: rgba(255, 255, 255, 1);
    background-color: #1976D2;
}

/* Button "Success" Styling */

.jupyter-button.mod-success {
    color: rgba(255, 255, 255, 1.0);
    background-color: #4CAF50;
}

.jupyter-button.mod-success.mod-active {
    color: rgba(255, 255, 255, 1);
    background-color: #388E3C;
 }

.jupyter-button.mod-success:active {
    color: rgba(255, 255, 255, 1);
    background-color: #388E3C;
 }

/* Button "Info" Styling */

.jupyter-button.mod-info {
    color: rgba(255, 255, 255, 1.0);
    background-color: #00BCD4;
}

.jupyter-button.mod-info.mod-active {
    color: rgba(255, 255, 255, 1);
    background-color: #0097A7;
}

.jupyter-button.mod-info:active {
    color: rgba(255, 255, 255, 1);
    background-color: #0097A7;
}

/* Button "Warning" Styling */

.jupyter-button.mod-warning {
    color: rgba(255, 255, 255, 1.0);
    background-color: #FF9800;
}

.jupyter-button.mod-warning.mod-active {
    color: rgba(255, 255, 255, 1);
    background-color: #F57C00;
}

.jupyter-button.mod-warning:active {
    color: rgba(255, 255, 255, 1);
    background-color: #F57C00;
}

/* Button "Danger" Styling */

.jupyter-button.mod-danger {
    color: rgba(255, 255, 255, 1.0);
    background-color: #F44336;
}

.jupyter-button.mod-danger.mod-active {
    color: rgba(255, 255, 255, 1);
    background-color: #D32F2F;
}

.jupyter-button.mod-danger:active {
    color: rgba(255, 255, 255, 1);
    background-color: #D32F2F;
}

/* Widget Button*/

.widget-button, .widget-toggle-button {
    width: 148px;
}

/* Widget Label Styling */

.widget-label {
    /* Label */
    color: black;
    font-size: 13px;
    overflow: hidden;
    text-overflow: ellipsis;
    white-space: nowrap;
    line-height: 28px;
    max-width: 300px;
}

.jupyter-widgets.widget-label {
    width: 72px;
}

.widget-inline-hbox .widget-label {
    /* Horizontal Widget Label */
    color: black;
    text-align: right;
    margin-right: 4px;
    max-width: 148px;
    min-width: 80px;
    -ms-flex-negative: 0;
        flex-shrink: 0;
}

.widget-inline-vbox .widget-label {
    /* Vertical Widget Label */
    color: black;
    text-align: center;
}

/* Widget Readout Styling */

.widget-readout {
    color: black;
    font-size: 13px;
    height: 28px;
    line-height: 28px;
    margin-left: 4px;
    overflow: hidden;
    white-space: nowrap;
    text-align: center;
}

.widget-readout.overflow {
    /* Overflowing Readout */

    /* From Material Design Lite
        shadow-key-umbra-opacity: 0.2;
        shadow-key-penumbra-opacity: 0.14;
        shadow-ambient-shadow-opacity: 0.12;
     */

    box-shadow: 0 2px 2px 0 rgba(0, 0, 0, .2),
                0 3px 1px -2px rgba(0, 0, 0, .14),
                0 1px 5px 0 rgba(0, 0, 0, .12);
}

.widget-inline-hbox .widget-readout {
    /* Horizontal Readout */
    text-align: center;
    max-width: 148px;
    min-width: 72px;
    margin-left: 4px;
}

.widget-inline-vbox .widget-readout {
    /* Vertical Readout */
    margin-top: 4px;
}

/* Widget Checkbox Styling */

.widget-checkbox {
    width: 148px;
    height: 28px;
    line-height: 28px;
    -webkit-box-pack: justify;
        -ms-flex-pack: justify;
            justify-content: space-between;
}

.widget-checkbox input[type="checkbox"] {
    margin: 0px 4px 0px 4px;
    line-height: 28px;
    font-size: large;
    -webkit-box-flex: 1;
        -ms-flex-positive: 1;
            flex-grow: 1;
    -ms-flex-negative: 0;
        flex-shrink: 0;
    -ms-flex-item-align: center;
        -ms-grid-row-align: center;
        align-self: center;
}

/* Widget Valid Styling */

.widget-valid {
    height: 28px;
    line-height: 28px;
    width: 148px;
    font-size: 13px;
}

.widget-valid i:before {
    height: 28px;
    line-height: 28px;
    margin-right: 4px;
    margin-left: 4px;

    /* from the fa class in FontAwesome: https://github.com/FortAwesome/Font-Awesome/blob/49100c7c3a7b58d50baa71efef11af41a66b03d3/css/font-awesome.css#L14 */
    display: inline-block;
    font: normal normal normal 14px/1 FontAwesome;
    font-size: inherit;
    text-rendering: auto;
    -webkit-font-smoothing: antialiased;
    -moz-osx-font-smoothing: grayscale;
}

.widget-valid.mod-valid i:before {
    content: "\F00C";
    color: green;
}

.widget-valid.mod-invalid i:before {
    content: "\F00D";
    color: red;
}

.widget-valid.mod-valid .widget-valid-readout {
    display: none;
}

/* Widget Text and TextArea Stying */

.widget-textarea, .widget-text {
    width: 300px;
}

.widget-text input[type="text"] {
    height: 28px;
    line-height: 28px;
}

.widget-text input[type="text"], .widget-textarea textarea {
    box-sizing: border-box;
    border: 1px solid #9E9E9E;
    background-color: white;
    color: rgba(0, 0, 0, .87);
    font-size: 13px;
    padding: 4px 8px;
    -webkit-box-flex: 1;
        -ms-flex-positive: 1;
            flex-grow: 1;
    min-width: 0; /* This makes it possible for the flexbox to shrink this input */
    -ms-flex-negative: 1;
        flex-shrink: 1;
    outline: none !important;
    line-height: 1.5;
}

.widget-textarea textarea {
    height: inherit;
    width: inherit;
}

.widget-text input:focus, .widget-textarea textarea:focus {
    border-color: #64B5F6;
}

/* Widget Slider */

.widget-slider .ui-slider {
    /* Slider Track */
    border: 1px solid #BDBDBD;
    background: #BDBDBD;
    box-sizing: border-box;
    position: relative;
    border-radius: 0px;
}

.widget-slider .ui-slider .ui-slider-handle {
    /* Slider Handle */
    outline: none !important; /* focused slider handles are colored - see below */
    position: absolute;
    background-color: white;
    border: 1px solid #9E9E9E;
    box-sizing: border-box;
    z-index: 1;
    background-image: none; /* Override jquery-ui */
}

/* Override jquery-ui */

.widget-slider .ui-slider .ui-slider-handle:hover, .widget-slider .ui-slider .ui-slider-handle:focus {
    background-color: #2196F3;
    border: 1px solid #2196F3;
}

.widget-slider .ui-slider .ui-slider-handle:active {
    background-color: #2196F3;
    border-color: #2196F3;
    z-index: 2;
    -webkit-transform: scale(1.2);
            transform: scale(1.2);
}

.widget-slider  .ui-slider .ui-slider-range {
    /* Interval between the two specified value of a double slider */
    position: absolute;
    background: #2196F3;
    z-index: 0;
}

/* Shapes of Slider Handles */

.widget-hslider .ui-slider .ui-slider-handle {
    width: 16px;
    height: 16px;
    margin-top: -7px;
    margin-left: -7px;
    border-radius: 50%;
    top: 0;
}

.widget-vslider .ui-slider .ui-slider-handle {
    width: 16px;
    height: 16px;
    margin-bottom: -7px;
    margin-left: -7px;
    border-radius: 50%;
    left: 0;
}

.widget-hslider .ui-slider .ui-slider-range {
    height: 8px;
    margin-top: -3px;
}

.widget-vslider .ui-slider .ui-slider-range {
    width: 8px;
    margin-left: -3px;
}

/* Horizontal Slider */

.widget-hslider {
    width: 300px;
    height: 28px;
    line-height: 28px;
}

.widgets-slider .slider-container {
    overflow: visible;
}

.widget-hslider .slider-container {
    height: 28px;
    margin-left: 6px;
    margin-right: 6px;
    -ms-flex-item-align: stretch;
        -ms-grid-row-align: stretch;
        align-self: stretch;
    -webkit-box-flex: 1;
        -ms-flex: 1 1 148px;
            flex: 1 1 148px;
}

.widget-hslider .ui-slider {
    /* Inner, invisible slide div */
    height: 4px;
    margin-top: 12px;
    width: 100%;
}

/* Vertical Slider */

.widget-vbox .widget-label {
    height: 28px;
    line-height: 28px;
}

.widget-vslider {
    /* Vertical Slider */
    height: 200px;
    width: 72px;
}

.widget-vslider .slider-container {
    -webkit-box-flex: 1;
        -ms-flex: 1 1 148px;
            flex: 1 1 148px;
    margin-left: auto;
    margin-right: auto;
    margin-bottom: 6px;
    margin-top: 6px;
}

.widget-vslider .ui-slider {
    /* Inner, invisible slide div */
    width: 4px;
    height: 100%;
    margin-left: auto;
    margin-right: auto;
}

/* Widget Progress Styling */

.progress-bar {
    -webkit-transition: none;
    transition: none;
}

.progress-bar {
    height: 28px;
}

.progress-bar {
    background-color: #2196F3;
}

.progress-bar-success {
    background-color: #4CAF50;
}

.progress-bar-info {
    background-color: #00BCD4;
}

.progress-bar-warning {
    background-color: #FF9800;
}

.progress-bar-danger {
    background-color: #F44336;
}

.progress {
    background-color: #EEEEEE;
    border: none;
    box-shadow: none;
}

/* Horisontal Progress */

.widget-hprogress {
    /* Progress Bar */
    height: 28px;
    line-height: 28px;
    width: 300px;
}

.widget-hprogress .progress {
    -webkit-box-flex: 1;
        -ms-flex-positive: 1;
            flex-grow: 1;
    height: 20px;
    margin-top: auto;
    margin-bottom: auto;
}

/* Vertical Progress */

.widget-vprogress {
    height: 200px;
    width: 72px;
}

.widget-vprogress .progress {
    -webkit-box-flex: 1;
        -ms-flex-positive: 1;
            flex-grow: 1;
    width: 20px;
    margin-left: auto;
    margin-right: auto;
    margin-bottom: 0;
}

/* Select Widget Styling */

.widget-select {
    width: 300px;
    height: 28px;
    line-height: 28px;
}

.widget-select select {
    border: 1px solid #9E9E9E;
    border-radius: 0;
    height: 28px;
    -webkit-box-flex: 1;
        -ms-flex: 1 1 148px;
            flex: 1 1 148px;
    min-width: 0; /* This makes it possible for the flexbox to shrink this input */
    box-sizing: border-box;
    outline: none !important;
    box-shadow: none;
    background-color: white;
    color: rgba(0, 0, 0, .87);
    font-size: 13px;
    vertical-align: top;
    padding-left: 8px;
	appearance: none;
	-webkit-appearance: none;
	-moz-appearance: none;
    background-repeat: no-repeat;
	background-size: 20px;
	background-position: right center;
    background-image: url("data:image/svg+xml;base64,PD94bWwgdmVyc2lvbj0iMS4wIiBlbmNvZGluZz0idXRmLTgiPz4KPCEtLSBHZW5lcmF0b3I6IEFkb2JlIElsbHVzdHJhdG9yIDE5LjIuMSwgU1ZHIEV4cG9ydCBQbHVnLUluIC4gU1ZHIFZlcnNpb246IDYuMDAgQnVpbGQgMCkgIC0tPgo8c3ZnIHZlcnNpb249IjEuMSIgaWQ9IkxheWVyXzEiIHhtbG5zPSJodHRwOi8vd3d3LnczLm9yZy8yMDAwL3N2ZyIgeG1sbnM6eGxpbms9Imh0dHA6Ly93d3cudzMub3JnLzE5OTkveGxpbmsiIHg9IjBweCIgeT0iMHB4IgoJIHZpZXdCb3g9IjAgMCAxOCAxOCIgc3R5bGU9ImVuYWJsZS1iYWNrZ3JvdW5kOm5ldyAwIDAgMTggMTg7IiB4bWw6c3BhY2U9InByZXNlcnZlIj4KPHN0eWxlIHR5cGU9InRleHQvY3NzIj4KCS5zdDB7ZmlsbDpub25lO30KPC9zdHlsZT4KPHBhdGggZD0iTTUuMiw1LjlMOSw5LjdsMy44LTMuOGwxLjIsMS4ybC00LjksNWwtNC45LTVMNS4yLDUuOXoiLz4KPHBhdGggY2xhc3M9InN0MCIgZD0iTTAtMC42aDE4djE4SDBWLTAuNnoiLz4KPC9zdmc+Cg");
}

.widget-select select:focus {
    border-color: #64B5F6;
}

/* To disable the dotted border in Firefox around select controls.
   See http://stackoverflow.com/a/18853002 */

.widget-select select:-moz-focusring {
    color: transparent;
    text-shadow: 0 0 0 #000;
}

.widget-select select option:checked {
    color: rgba(0, 0, 0, 1.0);
    background: white repeat url("data:image/gif;base64,R0lGO...");
}

/* Select Multiple */

.widget-select-multiple {
    width: 300px;
    line-height: 28px;
}

.widget-select-multiple select {
    border: 1px solid #9E9E9E;
    background-color: white;
    color: rgba(0, 0, 0, .87);
    font-size: 13px;
    -webkit-box-flex: 1;
        -ms-flex: 1 1 148px;
            flex: 1 1 148px;
    outline: none !important;
    overflow: auto;
}

.widget-select-multiple select:focus {
    border-color: #64B5F6;
}

.widget-select-multiple select option:checked {
    color: rgba(0, 0, 0, 1.0);
    background: white repeat url("data:image/gif;base64,R0lGO...");
}

.wiget-select-multiple select option {
    padding-left: 4px;
    line-height: 28px;
    /* line-height doesn't work on some browsers for select options */
    padding-top: 21.5px;
    padding-bottom: 21.5px;
}

/* Toggle Buttons Styling */

.widget-toggle-buttons {
    line-height: 28px;
}

.widget-toggle-buttons .widget-toggle-button {
    margin-left: 2px;
    margin-right: 2px;
}

/* Radio Buttons Styling */

.widget-radio {
    width: 300px;
    line-height: 28px;
}

.widget-radio-box {
    display: -webkit-box;
    display: -ms-flexbox;
    display: flex;
    -webkit-box-orient: vertical;
    -webkit-box-direction: normal;
        -ms-flex-direction: column;
            flex-direction: column;
    -webkit-box-align: stretch;
        -ms-flex-align: stretch;
            align-items: stretch;
    box-sizing: border-box;
    -webkit-box-flex: 1;
        -ms-flex-positive: 1;
            flex-grow: 1;
}

.widget-radio-box label {
    height: 28px;
    line-height: 28px;
    font-size: 13px;
}

.widget-radio-box input {
    height: 28px;
    line-height: 28px;
    margin: 0 4px 0 4px;
    float: left;
}

/* Color Picker Styling */

.widget-colorpicker {
    width: 300px;
    height: 28px;
    line-height: 28px;
}

.widget-colorpicker > .widget-colorpicker-input {
    -webkit-box-flex: 1;
        -ms-flex-positive: 1;
            flex-grow: 1;
    -ms-flex-negative: 1;
        flex-shrink: 1;
    min-width: 72px;
}

.widget-colorpicker input[type="color"] {
    width: 28px;
    height: 28px;
    padding: 0 2px; /* make the color square actually square on Chrome on OS X */
    background: white;
    color: rgba(0, 0, 0, .87);
    border: 1px solid #9E9E9E;
    border-left: none;
    -webkit-box-flex: 0;
        -ms-flex-positive: 0;
            flex-grow: 0;
    -ms-flex-negative: 0;
        flex-shrink: 0;
    box-sizing: border-box;
    -ms-flex-item-align: stretch;
        -ms-grid-row-align: stretch;
        align-self: stretch;
    outline: none !important;
}

.widget-colorpicker.concise input[type="color"] {
    border-left: 1px solid #9E9E9E;
}

.widget-colorpicker input[type="color"]:focus, .widget-colorpicker input[type="text"]:focus {
    border-color: #64B5F6;
}

.widget-colorpicker input[type="text"] {
    -webkit-box-flex: 1;
        -ms-flex-positive: 1;
            flex-grow: 1;
    outline: none !important;
    height: 28px;
    line-height: 28px;
    background: white;
    color: rgba(0, 0, 0, .87);
    border: 1px solid #9E9E9E;
    font-size: 13px;
    padding: 4px 8px;
    min-width: 0; /* This makes it possible for the flexbox to shrink this input */
    -ms-flex-negative: 1;
        flex-shrink: 1;
    box-sizing: border-box;
}

/* Date Picker Styling */

.widget-datepicker {
    width: 300px;
    height: 28px;
    line-height: 28px;
}

.widget-datepicker input[type="date"] {
    -webkit-box-flex: 1;
        -ms-flex-positive: 1;
            flex-grow: 1;
    -ms-flex-negative: 1;
        flex-shrink: 1;
    min-width: 0; /* This makes it possible for the flexbox to shrink this input */
    outline: none !important;
    height: 28px;
    border: 1px solid #9E9E9E;
    background-color: white;
    color: rgba(0, 0, 0, .87);
    font-size: 13px;
    padding: 4px 8px;
    box-sizing: border-box;
}

.widget-datepicker input[type="date"]:focus {
    border-color: #64B5F6;
}

/* Play Widget */

.widget-play {
    min-width: 148px;
    display: -webkit-box;
    display: -ms-flexbox;
    display: flex;
    -webkit-box-pack: justify;
        -ms-flex-pack: justify;
            justify-content: space-between;
}

.widget-play .jupyter-button {
    min-width: 45.33333px;
    text-align: center;
}

/* Tab Widget */

.jupyter-widgets .p-TabBar {
    overflow-x: visible;
    overflow-y: visible;
}

.jupyter-widgets.widget-tab .p-TabBar.p-mod-horizontal > .p-TabBar-content {
    -webkit-box-align: end;
        -ms-flex-align: end;
            align-items: flex-end;
    margin-bottom: 0;
}

.jupyter-widgets.widget-tab .widget-tab-contents {
    width: 100%;
    box-sizing: border-box;
    margin: 0;
    background: white;
    color: rgba(0, 0, 0, .87);
    border: 1px solid #9E9E9E;
    padding: 15px;
}

.jupyter-widgets.widget-tab .widget-tab-contents .widget-tab-child.p-mod-hidden {
    display: none !important;
}

.jupyter-widgets.widget-tab .widget-tab-bar.p-TabBar {
    font: 13px Helvetica, Arial, sans-serif;
}

.jupyter-widgets.widget-tab .p-TabBar-tab {
    -webkit-box-flex: 0;
        -ms-flex: 0 1 144px;
            flex: 0 1 144px;
    min-width: 35px;
    min-height: 25px;
    line-height: 24px;
    margin-left: -1px;
    padding: 0px 10px;
    background: #EEEEEE;
    color: rgba(0, 0, 0, .54);
    border: 1px solid #9E9E9E;
    border-bottom: none;
    position: relative;
}

.jupyter-widgets.widget-tab .p-TabBar-tab.p-mod-current {
    color: rgba(0, 0, 0, 1.0);
    /* We want the background to match the tab content background */
    background: white;
    min-height: 26px;
    -webkit-transform: translateY(1px);
            transform: translateY(1px);
}

.jupyter-widgets.widget-tab .p-TabBar-tab.p-mod-current:before {
    position: absolute;
    top: -1px;
    left: -1px;
    content: '';
    height: 2px;
    width: calc(100% + 2 * 1px);
    background: #2196F3;
}

.jupyter-widgets.widget-tab .p-TabBar-tab:first-child {
    margin-left: 0;
}

.jupyter-widgets.widget-tab .p-TabBar-tab:hover:not(.p-mod-current) {
    background: white;
    color: rgba(0, 0, 0, .87);
}

.jupyter-widgets.widget-tab.p-mod-closable > .p-TabBar-tabCloseIcon {
    margin-left: 4px;
}

.jupyter-widgets.widget-tab.p-mod-closable > .p-TabBar-tabCloseIcon:before {
    font-family: FontAwesome;
    content: '\F00D'; /* close */
}

.jupyter-widgets.widget-tab .p-TabBar-tabIcon,
.jupyter-widgets.widget-tab .p-TabBar-tabLabel,
.jupyter-widgets.widget-tab .p-TabBar-tabCloseIcon {
    line-height: 24px;
}

/* Accordion Widget */

.p-Collapse {
    display: -webkit-box;
    display: -ms-flexbox;
    display: flex;
    -webkit-box-orient: vertical;
    -webkit-box-direction: normal;
        -ms-flex-direction: column;
            flex-direction: column;
    -webkit-box-align: stretch;
        -ms-flex-align: stretch;
            align-items: stretch;
}

.p-Collapse-header {
    padding: 4px;
    cursor: pointer;
    color: rgba(0, 0, 0, .54);
    background-color: #EEEEEE;
    border: 1px solid #9E9E9E;
    padding: 10px 15px;
    font-weight: bold;
}

.p-Collapse-header:hover {
    background-color: white;
    color: rgba(0, 0, 0, .87);
}

.p-Collapse-open .p-Collapse-header {
    background-color: white;
    color: rgba(0, 0, 0, 1.0);
    cursor: default;
    border-bottom: none;
}

.p-Collapse .p-Collapse-header::before {
    content: '\F0DA\A0';  /* caret-right, non-breaking space */
    display: inline-block;
    font: normal normal normal 14px/1 FontAwesome;
    font-size: inherit;
    text-rendering: auto;
    -webkit-font-smoothing: antialiased;
    -moz-osx-font-smoothing: grayscale;
}

.p-Collapse-open .p-Collapse-header::before {
    content: '\F0D7\A0'; /* caret-down, non-breaking space */
}

.p-Collapse-contents {
    padding: 15px;
    background-color: white;
    color: rgba(0, 0, 0, .87);
    border-left: 1px solid #9E9E9E;
    border-right: 1px solid #9E9E9E;
    border-bottom: 1px solid #9E9E9E;
}

.p-Accordion {
    display: -webkit-box;
    display: -ms-flexbox;
    display: flex;
    -webkit-box-orient: vertical;
    -webkit-box-direction: normal;
        -ms-flex-direction: column;
            flex-direction: column;
    -webkit-box-align: stretch;
        -ms-flex-align: stretch;
            align-items: stretch;
}

.p-Accordion .p-Collapse {
    margin-bottom: 0;
}

.p-Accordion .p-Collapse + .p-Collapse {
    margin-top: 4px;
}

/* HTML widget */

.widget-html, .widget-htmlmath {
    font-size: 13px;
}
</style><link id="favicon" type="image/x-icon" rel="shortcut icon" href="http://localhost:8888/static/base/images/favicon.ico"></head>

<body class="notebook_app command_mode" data-jupyter-api-token="f51288be27a2e2f259d040ebd36c8c6ce5457026eff236f5" data-base-url="/" data-ws-url="" data-notebook-name="Untitled2.ipynb" data-notebook-path="Untitled2.ipynb" dir="ltr"><div style="visibility: hidden; overflow: hidden; position: absolute; top: 0px; height: 1px; width: auto; padding: 0px; border: 0px; margin: 0px; text-align: left; text-indent: 0px; text-transform: none; line-height: normal; letter-spacing: normal; word-spacing: normal;"><div id="MathJax_Hidden"></div></div><div id="MathJax_Message" style="display: none;"></div>

<noscript>
    &lt;div id='noscript'&gt;
      Jupyter Notebook requires JavaScript.&lt;br&gt;
      Please enable it to proceed.
  &lt;/div&gt;
</noscript>

<div id="header" style="display: block;">
  <div id="header-container" class="container">
  <div id="ipython_notebook" class="nav navbar-brand pull-left"><a href="http://localhost:8888/tree" title="dashboard"><img src="./LinearRegression_files/logo.png" alt="Jupyter Notebook"></a></div>

  
  
  

    <span id="login_widget">
      
        <button id="logout" class="btn btn-sm navbar-btn">Logout</button>
      
    </span>

  

  

  


<span id="save_widget" class="pull-left save_widget">
    <span id="notebook_name" class="filename">LinearRegression</span>
    <span class="checkpoint_status" title="Sun, Jul 16, 2017 7:11 PM">Last Checkpoint: a few seconds ago</span>
    <span class="autosave_status">(autosaved)</span>
</span>

<span id="kernel_logo_widget">
  
  <img class="current_kernel_logo" src="./LinearRegression_files/logo-64x64.png" title="Python 2" style="display: inline;">
  
</span>


  </div>
  <div class="header-bar"></div>

  
<div id="menubar-container" class="container">
<div id="menubar">
    <div id="menus" class="navbar navbar-default" role="navigation">
        <div class="container-fluid">
            <button type="button" class="btn btn-default navbar-btn navbar-toggle" data-toggle="collapse" data-target=".navbar-collapse">
              <i class="fa fa-bars"></i>
              <span class="navbar-text">Menu</span>
            </button>
            <p id="kernel_indicator" class="navbar-text indicator_area">
              <span class="kernel_indicator_name">Python 2</span>
              <i id="kernel_indicator_icon" class="kernel_idle_icon" title="Kernel Idle"></i>
            </p>
            <i id="readonly-indicator" class="navbar-text" title="This notebook is read-only" style="display: none;">
                <span class="fa-stack">
                    <i class="fa fa-save fa-stack-1x"></i>
                    <i class="fa fa-ban fa-stack-2x text-danger"></i>
                </span>
            </i>
            <i id="modal_indicator" class="navbar-text modal_indicator" title="Command Mode"></i>
            <span id="notification_area"><div id="notification_kernel" class="notification_widget btn btn-xs navbar-btn undefined info" style="display: none;"><span></span></div><div id="notification_notebook" class="notification_widget btn btn-xs navbar-btn" style="display: none;"><span></span></div><div id="notification_trusted" class="notification_widget btn btn-xs navbar-btn" style="display: inline-block;"><span>Trusted</span></div><div id="notification_widgets" class="notification_widget btn btn-xs navbar-btn" style="display: none;"><span></span></div></span>
            <div class="navbar-collapse collapse">
              <ul class="nav navbar-nav">
                <li class="dropdown"><a href="http://localhost:8888/notebooks/LinearRegression.ipynb#" class="dropdown-toggle" data-toggle="dropdown" aria-expanded="false">File</a>
                    <ul id="file_menu" class="dropdown-menu">
                        <li id="new_notebook" class="dropdown-submenu">
                            <a href="http://localhost:8888/notebooks/LinearRegression.ipynb#">New Notebook</a>
                            <ul class="dropdown-menu" id="menu-new-notebook-submenu"><li id="new-notebook-submenu-python2"><a href="http://localhost:8888/notebooks/LinearRegression.ipynb#">Python 2</a></li></ul>
                        </li>
                        <li id="open_notebook" title="Opens a new window with the Dashboard view">
                            <a href="http://localhost:8888/notebooks/LinearRegression.ipynb#">Open...</a></li>
                        <!-- <hr/> -->
                        <li class="divider"></li>
                        <li id="copy_notebook" title="Open a copy of this notebook&#39;s contents and start a new kernel">
                            <a href="http://localhost:8888/notebooks/LinearRegression.ipynb#">Make a Copy...</a></li>
                        <li id="rename_notebook"><a href="http://localhost:8888/notebooks/LinearRegression.ipynb#">Rename...</a></li>
                        <li id="save_checkpoint"><a href="http://localhost:8888/notebooks/LinearRegression.ipynb#">Save and Checkpoint</a></li>
                        <!-- <hr/> -->
                        <li class="divider"></li>
                        <li id="restore_checkpoint" class="dropdown-submenu"><a href="http://localhost:8888/notebooks/LinearRegression.ipynb#">Revert to Checkpoint</a>
                          <ul class="dropdown-menu"><li><a href="http://localhost:8888/notebooks/LinearRegression.ipynb#">Sunday, July 16, 2017 7:11 PM</a></li></ul>
                        </li>
                        <li class="divider"></li>
                        <li id="print_preview"><a href="http://localhost:8888/notebooks/LinearRegression.ipynb#">Print Preview</a></li>
                        <li class="dropdown-submenu"><a href="http://localhost:8888/notebooks/LinearRegression.ipynb#">Download as</a>
                            <ul id="download_menu" class="dropdown-menu">
                                <li id="download_ipynb"><a href="http://localhost:8888/notebooks/LinearRegression.ipynb#">Notebook (.ipynb)</a></li>
                                <li id="download_script"><a href="http://localhost:8888/notebooks/LinearRegression.ipynb#">Python (.py)</a></li>
                                <li id="download_html"><a href="http://localhost:8888/notebooks/LinearRegression.ipynb#">HTML (.html)</a></li>
                                <li id="download_markdown"><a href="http://localhost:8888/notebooks/LinearRegression.ipynb#">Markdown (.md)</a></li>
                                <li id="download_rst"><a href="http://localhost:8888/notebooks/LinearRegression.ipynb#">reST (.rst)</a></li>
                                <li id="download_latex"><a href="http://localhost:8888/notebooks/LinearRegression.ipynb#">LaTeX (.tex)</a></li>
                                <li id="download_pdf"><a href="http://localhost:8888/notebooks/LinearRegression.ipynb#">PDF via LaTeX (.pdf)</a></li>
                            </ul>
                        </li>
                        <li class="dropdown-submenu hidden"><a href="http://localhost:8888/notebooks/LinearRegression.ipynb#">Deploy as</a>
                            <ul id="deploy_menu" class="dropdown-menu"></ul>
                        </li>
                        <li class="divider"></li>
                        <li id="trust_notebook" title="Trust the output of this notebook" class="disabled">
                            <a href="http://localhost:8888/notebooks/LinearRegression.ipynb#">Trusted Notebook</a></li>
                        <li class="divider"></li>
                        <li id="kill_and_exit" title="Shutdown this notebook&#39;s kernel, and close this window">
                            <a href="http://localhost:8888/notebooks/LinearRegression.ipynb#">Close and Halt</a></li>
                    </ul>
                </li>
                <li class="dropdown"><a href="http://localhost:8888/notebooks/LinearRegression.ipynb#" class="dropdown-toggle" data-toggle="dropdown">Edit</a>
                    <ul id="edit_menu" class="dropdown-menu">
                        <li id="cut_cell"><a href="http://localhost:8888/notebooks/LinearRegression.ipynb#">Cut Cells</a></li>
                        <li id="copy_cell"><a href="http://localhost:8888/notebooks/LinearRegression.ipynb#">Copy Cells</a></li>
                        <li id="paste_cell_above" class=""><a href="http://localhost:8888/notebooks/LinearRegression.ipynb#">Paste Cells Above</a></li>
                        <li id="paste_cell_below" class=""><a href="http://localhost:8888/notebooks/LinearRegression.ipynb#">Paste Cells Below</a></li>
                        <li id="paste_cell_replace" class=""><a href="http://localhost:8888/notebooks/LinearRegression.ipynb#">Paste Cells &amp; Replace</a></li>
                        <li id="delete_cell"><a href="http://localhost:8888/notebooks/LinearRegression.ipynb#">Delete Cells</a></li>
                        <li id="undelete_cell" class=""><a href="http://localhost:8888/notebooks/LinearRegression.ipynb#">Undo Delete Cells</a></li>
                        <li class="divider"></li>
                        <li id="split_cell"><a href="http://localhost:8888/notebooks/LinearRegression.ipynb#">Split Cell</a></li>
                        <li id="merge_cell_above"><a href="http://localhost:8888/notebooks/LinearRegression.ipynb#">Merge Cell Above</a></li>
                        <li id="merge_cell_below"><a href="http://localhost:8888/notebooks/LinearRegression.ipynb#">Merge Cell Below</a></li>
                        <li class="divider"></li>
                        <li id="move_cell_up"><a href="http://localhost:8888/notebooks/LinearRegression.ipynb#">Move Cell Up</a></li>
                        <li id="move_cell_down"><a href="http://localhost:8888/notebooks/LinearRegression.ipynb#">Move Cell Down</a></li>
                        <li class="divider"></li>
                        <li id="edit_nb_metadata"><a href="http://localhost:8888/notebooks/LinearRegression.ipynb#">Edit Notebook Metadata</a></li>
                        <li class="divider"></li>
                        <li id="find_and_replace"><a href="http://localhost:8888/notebooks/LinearRegression.ipynb#"> Find and Replace </a></li>
                        <li class="divider"></li>
                        <li id="cut_cell_attachments"><a href="http://localhost:8888/notebooks/LinearRegression.ipynb#">Cut Cell Attachments</a></li>
                        <li id="copy_cell_attachments"><a href="http://localhost:8888/notebooks/LinearRegression.ipynb#">Copy Cell Attachments</a></li>
                        <li id="paste_cell_attachments" class="disabled"><a href="http://localhost:8888/notebooks/LinearRegression.ipynb#">Paste Cell Attachments</a></li>
                        <li class="divider"></li>
                        <li id="insert_image" class="disabled"><a href="http://localhost:8888/notebooks/LinearRegression.ipynb#"> Insert Image </a></li>
                    </ul>
                </li>
                <li class="dropdown"><a href="http://localhost:8888/notebooks/LinearRegression.ipynb#" class="dropdown-toggle" data-toggle="dropdown">View</a>
                    <ul id="view_menu" class="dropdown-menu">
                        <li id="toggle_header" title="Show/Hide the logo and notebook title (above menu bar)">
                            <a href="http://localhost:8888/notebooks/LinearRegression.ipynb#">Toggle Header</a>
                        </li>
                        <li id="toggle_toolbar" title="Show/Hide the action icons (below menu bar)">
                            <a href="http://localhost:8888/notebooks/LinearRegression.ipynb#">Toggle Toolbar</a>
                        </li>
                        <li id="toggle_line_numbers" title="Show/Hide line numbers in cells">
                            <a href="http://localhost:8888/notebooks/LinearRegression.ipynb#">Toggle Line Numbers</a>
                        </li>
                        <li id="menu-cell-toolbar" class="dropdown-submenu">
                            <a href="http://localhost:8888/notebooks/LinearRegression.ipynb#">Cell Toolbar</a>
                            <ul class="dropdown-menu" id="menu-cell-toolbar-submenu"><li data-name="None"><a href="http://localhost:8888/notebooks/LinearRegression.ipynb#">None</a></li><li data-name="Edit%20Metadata"><a href="http://localhost:8888/notebooks/LinearRegression.ipynb#">Edit Metadata</a></li><li data-name="Raw%20Cell%20Format"><a href="http://localhost:8888/notebooks/LinearRegression.ipynb#">Raw Cell Format</a></li><li data-name="Slideshow"><a href="http://localhost:8888/notebooks/LinearRegression.ipynb#">Slideshow</a></li><li data-name="Attachments"><a href="http://localhost:8888/notebooks/LinearRegression.ipynb#">Attachments</a></li><li data-name="Tags"><a href="http://localhost:8888/notebooks/LinearRegression.ipynb#">Tags</a></li></ul>
                        </li>
                    </ul>
                </li>
                <li class="dropdown"><a href="http://localhost:8888/notebooks/LinearRegression.ipynb#" class="dropdown-toggle" data-toggle="dropdown">Insert</a>
                    <ul id="insert_menu" class="dropdown-menu">
                        <li id="insert_cell_above" title="Insert an empty Code cell above the currently active cell">
                            <a href="http://localhost:8888/notebooks/LinearRegression.ipynb#">Insert Cell Above</a></li>
                        <li id="insert_cell_below" title="Insert an empty Code cell below the currently active cell">
                            <a href="http://localhost:8888/notebooks/LinearRegression.ipynb#">Insert Cell Below</a></li>
                    </ul>
                </li>
                <li class="dropdown"><a href="http://localhost:8888/notebooks/LinearRegression.ipynb#" class="dropdown-toggle" data-toggle="dropdown">Cell</a>
                    <ul id="cell_menu" class="dropdown-menu">
                        <li id="run_cell" title="Run this cell, and move cursor to the next one">
                            <a href="http://localhost:8888/notebooks/LinearRegression.ipynb#">Run Cells</a></li>
                        <li id="run_cell_select_below" title="Run this cell, select below">
                            <a href="http://localhost:8888/notebooks/LinearRegression.ipynb#">Run Cells and Select Below</a></li>
                        <li id="run_cell_insert_below" title="Run this cell, insert below">
                            <a href="http://localhost:8888/notebooks/LinearRegression.ipynb#">Run Cells and Insert Below</a></li>
                        <li id="run_all_cells" title="Run all cells in the notebook">
                            <a href="http://localhost:8888/notebooks/LinearRegression.ipynb#">Run All</a></li>
                        <li id="run_all_cells_above" title="Run all cells above (but not including) this cell">
                            <a href="http://localhost:8888/notebooks/LinearRegression.ipynb#">Run All Above</a></li>
                        <li id="run_all_cells_below" title="Run this cell and all cells below it">
                            <a href="http://localhost:8888/notebooks/LinearRegression.ipynb#">Run All Below</a></li>
                        <li class="divider"></li>
                        <li id="change_cell_type" class="dropdown-submenu" title="All cells in the notebook have a cell type. By default, new cells are created as &#39;Code&#39; cells">
                            <a href="http://localhost:8888/notebooks/LinearRegression.ipynb#">Cell Type</a>
                            <ul class="dropdown-menu">
                              <li id="to_code" title="Contents will be sent to the kernel for execution, and output will display in the footer of cell">
                                  <a href="http://localhost:8888/notebooks/LinearRegression.ipynb#">Code</a></li>
                              <li id="to_markdown" title="Contents will be rendered as HTML and serve as explanatory text">
                                  <a href="http://localhost:8888/notebooks/LinearRegression.ipynb#">Markdown</a></li>
                              <li id="to_raw" title="Contents will pass through nbconvert unmodified">
                                  <a href="http://localhost:8888/notebooks/LinearRegression.ipynb#">Raw NBConvert</a></li>
                            </ul>
                        </li>
                        <li class="divider"></li>
                        <li id="current_outputs" class="dropdown-submenu"><a href="http://localhost:8888/notebooks/LinearRegression.ipynb#">Current Outputs</a>
                            <ul class="dropdown-menu">
                                <li id="toggle_current_output" title="Hide/Show the output of the current cell">
                                    <a href="http://localhost:8888/notebooks/LinearRegression.ipynb#">Toggle</a>
                                </li>
                                <li id="toggle_current_output_scroll" title="Scroll the output of the current cell">
                                    <a href="http://localhost:8888/notebooks/LinearRegression.ipynb#">Toggle Scrolling</a>
                                </li>
                                <li id="clear_current_output" title="Clear the output of the current cell">
                                    <a href="http://localhost:8888/notebooks/LinearRegression.ipynb#">Clear</a>
                                </li>
                            </ul>
                        </li>
                        <li id="all_outputs" class="dropdown-submenu"><a href="http://localhost:8888/notebooks/LinearRegression.ipynb#">All Output</a>
                            <ul class="dropdown-menu">
                                <li id="toggle_all_output" title="Hide/Show the output of all cells">
                                    <a href="http://localhost:8888/notebooks/LinearRegression.ipynb#">Toggle</a>
                                </li>
                                <li id="toggle_all_output_scroll" title="Scroll the output of all cells">
                                    <a href="http://localhost:8888/notebooks/LinearRegression.ipynb#">Toggle Scrolling</a>
                                </li>
                                <li id="clear_all_output" title="Clear the output of all cells">
                                    <a href="http://localhost:8888/notebooks/LinearRegression.ipynb#">Clear</a>
                                </li>
                            </ul>
                        </li>
                    </ul>
                </li>
                <li class="dropdown"><a href="http://localhost:8888/notebooks/LinearRegression.ipynb#" class="dropdown-toggle" data-toggle="dropdown">Kernel</a>
                    <ul id="kernel_menu" class="dropdown-menu">
                        <li id="int_kernel" title="Send KeyboardInterrupt (CTRL-C) to the Kernel">
                            <a href="http://localhost:8888/notebooks/LinearRegression.ipynb#">Interrupt</a>
                        </li>
                        <li id="restart_kernel" title="Restart the Kernel">
                            <a href="http://localhost:8888/notebooks/LinearRegression.ipynb#">Restart</a>
                        </li>
                        <li id="restart_clear_output" title="Restart the Kernel and clear all output">
                            <a href="http://localhost:8888/notebooks/LinearRegression.ipynb#">Restart &amp; Clear Output</a>
                        </li>
                        <li id="restart_run_all" title="Restart the Kernel and re-run the notebook">
                            <a href="http://localhost:8888/notebooks/LinearRegression.ipynb#">Restart &amp; Run All</a>
                        </li>
                        <li id="reconnect_kernel" title="Reconnect to the Kernel">
                            <a href="http://localhost:8888/notebooks/LinearRegression.ipynb#">Reconnect</a>
                        </li>
                        <li id="shutdown_kernel" title="Shutdown the Kernel">
                            <a href="http://localhost:8888/notebooks/LinearRegression.ipynb#">Shutdown</a>
                        </li>
                        <li class="divider"></li>
                        <li id="menu-change-kernel" class="dropdown-submenu">
                            <a href="http://localhost:8888/notebooks/LinearRegression.ipynb#">Change kernel</a>
                            <ul class="dropdown-menu" id="menu-change-kernel-submenu"><li id="kernel-submenu-python2"><a href="http://localhost:8888/notebooks/LinearRegression.ipynb#">Python 2</a></li></ul>
                        </li>
                    </ul>
                </li>
                <li class="dropdown"><a href="http://localhost:8888/notebooks/LinearRegression.ipynb#" data-toggle="dropdown" class="dropdown-toggle">Widgets</a><ul id="widget-submenu" class="dropdown-menu"><li title="Save the notebook with the widget state information for static rendering"><a href="http://localhost:8888/notebooks/LinearRegression.ipynb#">Save Notebook with Widgets</a></li><li title="Download the widget state as a JSON file"><a href="http://localhost:8888/notebooks/LinearRegression.ipynb#">Download Widget State</a></li><li title="Embed interactive widgets"><a href="http://localhost:8888/notebooks/LinearRegression.ipynb#">Embed Widgets</a></li></ul></li><li class="dropdown"><a href="http://localhost:8888/notebooks/LinearRegression.ipynb#" class="dropdown-toggle" data-toggle="dropdown">Help</a>
                    <ul id="help_menu" class="dropdown-menu">
                        
                        <li id="notebook_tour" title="A quick tour of the notebook user interface"><a href="http://localhost:8888/notebooks/LinearRegression.ipynb#">User Interface Tour</a></li>
                        <li id="keyboard_shortcuts" title="Opens a dialog which shows all keyboard shortcuts"><a href="http://localhost:8888/notebooks/LinearRegression.ipynb#">Keyboard Shortcuts</a></li>
                        <li id="edit_keyboard_shortcuts" title="Opens a dialog allowing you to edit Keyboard shortcuts"><a href="http://localhost:8888/notebooks/LinearRegression.ipynb#">Edit Keyboard Shortcuts</a></li>
                        <li class="divider"></li>
                        

                        
                            
                                <li><a rel="noreferrer" href="http://nbviewer.ipython.org/github/ipython/ipython/blob/3.x/examples/Notebook/Index.ipynb" target="_blank" title="Opens in a new window">
                                
                                    <i class="fa fa-external-link menu-icon pull-right"></i>
                                

                                Notebook Help
                                </a></li>
                            
                                <li><a rel="noreferrer" href="https://help.github.com/articles/markdown-basics/" target="_blank" title="Opens in a new window">
                                
                                    <i class="fa fa-external-link menu-icon pull-right"></i>
                                

                                Markdown
                                </a></li>
                            
                            
                        
                        <li id="kernel-help-links" class="divider"></li><li><a target="_blank" title="Opens in a new window" href="http://docs.python.org/2.7?v=20170716150554"><i class="fa fa-external-link menu-icon pull-right"></i><span>Python</span></a></li><li><a target="_blank" title="Opens in a new window" href="http://ipython.org/documentation.html?v=20170716150554"><i class="fa fa-external-link menu-icon pull-right"></i><span>IPython</span></a></li><li><a target="_blank" title="Opens in a new window" href="http://docs.scipy.org/doc/numpy/reference/?v=20170716150554"><i class="fa fa-external-link menu-icon pull-right"></i><span>NumPy</span></a></li><li><a target="_blank" title="Opens in a new window" href="http://docs.scipy.org/doc/scipy/reference/?v=20170716150554"><i class="fa fa-external-link menu-icon pull-right"></i><span>SciPy</span></a></li><li><a target="_blank" title="Opens in a new window" href="http://matplotlib.org/contents.html?v=20170716150554"><i class="fa fa-external-link menu-icon pull-right"></i><span>Matplotlib</span></a></li><li><a target="_blank" title="Opens in a new window" href="http://docs.sympy.org/latest/index.html?v=20170716150554"><i class="fa fa-external-link menu-icon pull-right"></i><span>SymPy</span></a></li><li><a target="_blank" title="Opens in a new window" href="http://pandas.pydata.org/pandas-docs/stable/?v=20170716150554"><i class="fa fa-external-link menu-icon pull-right"></i><span>pandas</span></a></li><li class="divider"></li>
                        <li title="About Jupyter Notebook"><a id="notebook_about" href="http://localhost:8888/notebooks/LinearRegression.ipynb#">About</a></li>
                        
                    </ul>
                </li>
              </ul>
            </div>
        </div>
    </div>
</div>

<div id="maintoolbar" class="navbar">
  <div class="toolbar-inner navbar-inner navbar-nobg">
    <div id="maintoolbar-container" class="container toolbar"><div class="btn-group" id="save-notbook"><button class="btn btn-default" title="Save and Checkpoint" data-jupyter-action="jupyter-notebook:save-notebook"><i class="fa-save fa"></i></button></div><div class="btn-group" id="insert_above_below"><button class="btn btn-default" title="insert cell below" data-jupyter-action="jupyter-notebook:insert-cell-below"><i class="fa-plus fa"></i></button></div><div class="btn-group" id="cut_copy_paste"><button class="btn btn-default" title="cut selected cells" data-jupyter-action="jupyter-notebook:cut-cell"><i class="fa-cut fa"></i></button><button class="btn btn-default" title="copy selected cells" data-jupyter-action="jupyter-notebook:copy-cell"><i class="fa-copy fa"></i></button><button class="btn btn-default" title="paste cells below" data-jupyter-action="jupyter-notebook:paste-cell-below"><i class="fa-paste fa"></i></button></div><div class="btn-group" id="move_up_down"><button class="btn btn-default" title="move selected cells up" data-jupyter-action="jupyter-notebook:move-cell-up"><i class="fa-arrow-up fa"></i></button><button class="btn btn-default" title="move selected cells down" data-jupyter-action="jupyter-notebook:move-cell-down"><i class="fa-arrow-down fa"></i></button></div><div class="btn-group" id="run_int"><button class="btn btn-default" title="run cell, select below" data-jupyter-action="jupyter-notebook:run-cell-and-select-next"><i class="fa-step-forward fa"></i></button><button class="btn btn-default" title="interrupt kernel" data-jupyter-action="jupyter-notebook:interrupt-kernel"><i class="fa-stop fa"></i></button><button class="btn btn-default" title="restart the kernel (with dialog)" data-jupyter-action="jupyter-notebook:confirm-restart-kernel"><i class="fa-repeat fa"></i></button></div><select id="cell_type" class="form-control select-xs"><option value="code">Code</option><option value="markdown">Markdown</option><option value="raw">Raw NBConvert</option><option value="heading">Heading</option><option value="multiselect" disabled="disabled" style="display: none;">-</option></select><div class="btn-group"><button class="btn btn-default" title="open the command palette" data-jupyter-action="jupyter-notebook:show-command-palette"><i class="fa-keyboard-o fa"></i></button></div></div>
  </div>
</div>
</div>

<div class="lower-header-bar"></div>

</div>

<div id="site" style="height: 433px; display: block;">


<div id="ipython-main-app">
    <div id="notebook_panel">
        <div id="notebook" tabindex="-1"><div class="container" id="notebook-container"><div class="cell code_cell rendered unselected" tabindex="2"><div class="input"><div class="prompt input_prompt"><bdi>In</bdi>&nbsp;[313]:</div><div class="inner_cell"><div class="ctb_hideshow"><div class="celltoolbar"></div></div><div class="input_area"><div class="CodeMirror cm-s-ipython"><div style="overflow: hidden; position: relative; width: 3px; height: 0px; top: 71.0511px; left: 333.778px;"><textarea autocorrect="off" autocapitalize="off" spellcheck="false" tabindex="0" style="position: absolute; bottom: -1em; padding: 0px; width: 1000px; height: 1em; outline: none;"></textarea></div><div class="CodeMirror-vscrollbar" cm-not-content="true"><div style="min-width: 1px; height: 0px;"></div></div><div class="CodeMirror-hscrollbar" cm-not-content="true"><div style="height: 100%; min-height: 1px; width: 0px;"></div></div><div class="CodeMirror-scrollbar-filler" cm-not-content="true"></div><div class="CodeMirror-gutter-filler" cm-not-content="true"></div><div class="CodeMirror-scroll" tabindex="-1" draggable="false"><div class="CodeMirror-sizer" style="margin-left: 0px; min-width: 438.014px; margin-bottom: -14px; border-right-width: 16px; min-height: 109px; padding-right: 0px; padding-bottom: 0px;"><div style="position: relative; top: 0px;"><div class="CodeMirror-lines"><div style="position: relative; outline: none;"><div class="CodeMirror-measure"></div><div class="CodeMirror-measure"></div><div style="position: relative; z-index: 1;"></div><div class="CodeMirror-cursors" style="visibility: hidden;"><div class="CodeMirror-cursor" style="left: 328.182px; top: 65.4545px; height: 16.3636px;">&nbsp;</div></div><div class="CodeMirror-code"><pre class=" CodeMirror-line "><span style="padding-right: 0.1px;"><span class="cm-comment"># Importing all necessary packages</span></span></pre><pre class=" CodeMirror-line "><span style="padding-right: 0.1px;"><span class="cm-keyword">import</span> <span class="cm-variable">pandas</span> <span class="cm-keyword">as</span> <span class="cm-variable">pd</span></span></pre><pre class=" CodeMirror-line "><span style="padding-right: 0.1px;"><span class="cm-keyword">import</span> <span class="cm-variable">numpy</span> <span class="cm-keyword">as</span> <span class="cm-variable">np</span></span></pre><pre class=" CodeMirror-line "><span style="padding-right: 0.1px;"><span class="cm-keyword">from</span> <span class="cm-variable">sklearn</span> <span class="cm-keyword">import</span>  <span class="cm-variable">linear_model</span></span></pre><pre class=" CodeMirror-line "><span style="padding-right: 0.1px;"><span class="cm-keyword">from</span> <span class="cm-variable">sklearn</span>.<span class="cm-property">cross_validation</span> <span class="cm-keyword">import</span> <span class="cm-variable">train_test_split</span></span></pre><pre class=" CodeMirror-line "><span style="padding-right: 0.1px;"><span class="cm-keyword">import</span> <span class="cm-variable">matplotlib</span>.<span class="cm-property">pyplot</span> <span class="cm-keyword">as</span> <span class="cm-variable">plt</span></span></pre></div></div></div></div></div><div style="position: absolute; height: 16px; width: 1px; border-bottom: 0px solid transparent; top: 109px;"></div><div class="CodeMirror-gutters" style="display: none; height: 125px;"></div></div></div></div></div></div><div class="widget-area" style="display: none;"><div class="prompt"><button class="close">×</button></div><div class="widget-subarea jp-Output-result"></div></div><div class="output_wrapper"><div class="out_prompt_overlay prompt" title="click to scroll output; double click to hide" style=""></div><div class="output" style=""></div><div class="btn btn-default output_collapsed" title="click to expand output" style="display: none;">. . .</div></div></div><div class="cell code_cell rendered unselected" tabindex="2"><div class="input"><div class="prompt input_prompt"><bdi>In</bdi>&nbsp;[314]:</div><div class="inner_cell"><div class="ctb_hideshow"><div class="celltoolbar"></div></div><div class="input_area"><div class="CodeMirror cm-s-ipython"><div style="overflow: hidden; position: relative; width: 3px; height: 0px; top: 5.59659px; left: 268.31px;"><textarea autocorrect="off" autocapitalize="off" spellcheck="false" tabindex="0" style="position: absolute; bottom: -1em; padding: 0px; width: 1000px; height: 1em; outline: none;"></textarea></div><div class="CodeMirror-vscrollbar" cm-not-content="true"><div style="min-width: 1px; height: 0px;"></div></div><div class="CodeMirror-hscrollbar" cm-not-content="true" style="right: 0px; left: 0px;"><div style="height: 100%; min-height: 1px; width: 0px;"></div></div><div class="CodeMirror-scrollbar-filler" cm-not-content="true"></div><div class="CodeMirror-gutter-filler" cm-not-content="true"></div><div class="CodeMirror-scroll" tabindex="-1" draggable="false"><div class="CodeMirror-sizer" style="margin-left: 0px; min-width: 380.273px; margin-bottom: -14px; border-right-width: 16px; min-height: 76px; padding-right: 0px; padding-bottom: 0px;"><div style="position: relative; top: 0px;"><div class="CodeMirror-lines"><div style="position: relative; outline: none;"><div class="CodeMirror-measure"></div><div class="CodeMirror-measure"></div><div style="position: relative; z-index: 1;"></div><div class="CodeMirror-cursors" style="visibility: hidden;"><div class="CodeMirror-cursor" style="left: 262.713px; top: 0px; height: 16.3636px;">&nbsp;</div></div><div class="CodeMirror-code"><pre class=" CodeMirror-line "><span style="padding-right: 0.1px;"><span class="cm-comment"># Opening .csv file using pandas</span></span></pre><pre class=" CodeMirror-line "><span style="padding-right: 0.1px;"><span class="cm-builtin">file</span> = <span class="cm-string">"/home/sakshi/Desktop/mlp/testdata.csv"</span></span></pre><pre class=" CodeMirror-line "><span style="padding-right: 0.1px;"><span class="cm-variable">data</span> = <span class="cm-variable">pd</span>.<span class="cm-property">read_csv</span>(<span class="cm-builtin">file</span>)</span></pre><pre class=" CodeMirror-line "><span style="padding-right: 0.1px;"><span class="cm-variable">data</span></span></pre></div></div></div></div></div><div style="position: absolute; height: 16px; width: 1px; border-bottom: 0px solid transparent; top: 76px;"></div><div class="CodeMirror-gutters" style="display: none; height: 92px;"></div></div></div></div></div></div><div class="widget-area" style="display: none;"><div class="prompt"><button class="close">×</button></div><div class="widget-subarea jp-Output-result"></div></div><div class="output_wrapper"><div class="out_prompt_overlay prompt" title="click to scroll output; double click to hide" style=""></div><div class="output" style=""><div class="output_area"><div class="prompt output_prompt"><bdi>Out</bdi>[314]:</div><div class="output_subarea output_html rendered_html output_result"><div>
<style>
    .dataframe thead tr:only-child th {
        text-align: right;
    }

    .dataframe thead th {
        text-align: left;
    }

    .dataframe tbody tr th {
        vertical-align: top;
    }
</style>
<table border="1" class="dataframe">
  <thead>
    <tr style="text-align: right;">
      <th></th>
      <th>X</th>
      <th>Y</th>
    </tr>
  </thead>
  <tbody>
    <tr>
      <th>0</th>
      <td>6.1101</td>
      <td>17.59200</td>
    </tr>
    <tr>
      <th>1</th>
      <td>5.5277</td>
      <td>9.13020</td>
    </tr>
    <tr>
      <th>2</th>
      <td>8.5186</td>
      <td>13.66200</td>
    </tr>
    <tr>
      <th>3</th>
      <td>7.0032</td>
      <td>11.85400</td>
    </tr>
    <tr>
      <th>4</th>
      <td>5.8598</td>
      <td>6.82330</td>
    </tr>
    <tr>
      <th>5</th>
      <td>8.3829</td>
      <td>11.88600</td>
    </tr>
    <tr>
      <th>6</th>
      <td>7.4764</td>
      <td>4.34830</td>
    </tr>
    <tr>
      <th>7</th>
      <td>8.5781</td>
      <td>12.00000</td>
    </tr>
    <tr>
      <th>8</th>
      <td>6.4862</td>
      <td>6.59870</td>
    </tr>
    <tr>
      <th>9</th>
      <td>5.0546</td>
      <td>3.81660</td>
    </tr>
    <tr>
      <th>10</th>
      <td>5.7107</td>
      <td>3.25220</td>
    </tr>
    <tr>
      <th>11</th>
      <td>14.1640</td>
      <td>15.50500</td>
    </tr>
    <tr>
      <th>12</th>
      <td>5.7340</td>
      <td>3.15510</td>
    </tr>
    <tr>
      <th>13</th>
      <td>8.4084</td>
      <td>7.22580</td>
    </tr>
    <tr>
      <th>14</th>
      <td>5.6407</td>
      <td>0.71618</td>
    </tr>
    <tr>
      <th>15</th>
      <td>5.3794</td>
      <td>3.51290</td>
    </tr>
    <tr>
      <th>16</th>
      <td>6.3654</td>
      <td>5.30480</td>
    </tr>
    <tr>
      <th>17</th>
      <td>5.1301</td>
      <td>0.56077</td>
    </tr>
    <tr>
      <th>18</th>
      <td>6.4296</td>
      <td>3.65180</td>
    </tr>
    <tr>
      <th>19</th>
      <td>7.0708</td>
      <td>5.38930</td>
    </tr>
    <tr>
      <th>20</th>
      <td>6.1891</td>
      <td>3.13860</td>
    </tr>
    <tr>
      <th>21</th>
      <td>20.2700</td>
      <td>21.76700</td>
    </tr>
    <tr>
      <th>22</th>
      <td>5.4901</td>
      <td>4.26300</td>
    </tr>
    <tr>
      <th>23</th>
      <td>6.3261</td>
      <td>5.18750</td>
    </tr>
    <tr>
      <th>24</th>
      <td>5.5649</td>
      <td>3.08250</td>
    </tr>
    <tr>
      <th>25</th>
      <td>18.9450</td>
      <td>22.63800</td>
    </tr>
    <tr>
      <th>26</th>
      <td>12.8280</td>
      <td>13.50100</td>
    </tr>
    <tr>
      <th>27</th>
      <td>10.9570</td>
      <td>7.04670</td>
    </tr>
    <tr>
      <th>28</th>
      <td>13.1760</td>
      <td>14.69200</td>
    </tr>
    <tr>
      <th>29</th>
      <td>22.2030</td>
      <td>24.14700</td>
    </tr>
    <tr>
      <th>...</th>
      <td>...</td>
      <td>...</td>
    </tr>
    <tr>
      <th>67</th>
      <td>10.2360</td>
      <td>7.77540</td>
    </tr>
    <tr>
      <th>68</th>
      <td>5.4994</td>
      <td>1.01730</td>
    </tr>
    <tr>
      <th>69</th>
      <td>20.3410</td>
      <td>20.99200</td>
    </tr>
    <tr>
      <th>70</th>
      <td>10.1360</td>
      <td>6.67990</td>
    </tr>
    <tr>
      <th>71</th>
      <td>7.3345</td>
      <td>4.02590</td>
    </tr>
    <tr>
      <th>72</th>
      <td>6.0062</td>
      <td>1.27840</td>
    </tr>
    <tr>
      <th>73</th>
      <td>7.2259</td>
      <td>3.34110</td>
    </tr>
    <tr>
      <th>74</th>
      <td>5.0269</td>
      <td>-2.68070</td>
    </tr>
    <tr>
      <th>75</th>
      <td>6.5479</td>
      <td>0.29678</td>
    </tr>
    <tr>
      <th>76</th>
      <td>7.5386</td>
      <td>3.88450</td>
    </tr>
    <tr>
      <th>77</th>
      <td>5.0365</td>
      <td>5.70140</td>
    </tr>
    <tr>
      <th>78</th>
      <td>10.2740</td>
      <td>6.75260</td>
    </tr>
    <tr>
      <th>79</th>
      <td>5.1077</td>
      <td>2.05760</td>
    </tr>
    <tr>
      <th>80</th>
      <td>5.7292</td>
      <td>0.47953</td>
    </tr>
    <tr>
      <th>81</th>
      <td>5.1884</td>
      <td>0.20421</td>
    </tr>
    <tr>
      <th>82</th>
      <td>6.3557</td>
      <td>0.67861</td>
    </tr>
    <tr>
      <th>83</th>
      <td>9.7687</td>
      <td>7.54350</td>
    </tr>
    <tr>
      <th>84</th>
      <td>6.5159</td>
      <td>5.34360</td>
    </tr>
    <tr>
      <th>85</th>
      <td>8.5172</td>
      <td>4.24150</td>
    </tr>
    <tr>
      <th>86</th>
      <td>9.1802</td>
      <td>6.79810</td>
    </tr>
    <tr>
      <th>87</th>
      <td>6.0020</td>
      <td>0.92695</td>
    </tr>
    <tr>
      <th>88</th>
      <td>5.5204</td>
      <td>0.15200</td>
    </tr>
    <tr>
      <th>89</th>
      <td>5.0594</td>
      <td>2.82140</td>
    </tr>
    <tr>
      <th>90</th>
      <td>5.7077</td>
      <td>1.84510</td>
    </tr>
    <tr>
      <th>91</th>
      <td>7.6366</td>
      <td>4.29590</td>
    </tr>
    <tr>
      <th>92</th>
      <td>5.8707</td>
      <td>7.20290</td>
    </tr>
    <tr>
      <th>93</th>
      <td>5.3054</td>
      <td>1.98690</td>
    </tr>
    <tr>
      <th>94</th>
      <td>8.2934</td>
      <td>0.14454</td>
    </tr>
    <tr>
      <th>95</th>
      <td>13.3940</td>
      <td>9.05510</td>
    </tr>
    <tr>
      <th>96</th>
      <td>5.4369</td>
      <td>0.61705</td>
    </tr>
  </tbody>
</table>
<p>97 rows × 2 columns</p>
</div></div></div></div><div class="btn btn-default output_collapsed" title="click to expand output" style="display: none;">. . .</div></div></div><div class="cell code_cell rendered unselected" tabindex="2"><div class="input"><div class="prompt input_prompt"><bdi>In</bdi>&nbsp;[315]:</div><div class="inner_cell"><div class="ctb_hideshow"><div class="celltoolbar"></div></div><div class="input_area"><div class="CodeMirror cm-s-ipython"><div style="overflow: hidden; position: relative; width: 3px; height: 0px; top: 152.869px; left: 235.469px;"><textarea autocorrect="off" autocapitalize="off" spellcheck="false" tabindex="0" style="position: absolute; bottom: -1em; padding: 0px; width: 1000px; height: 1em; outline: none;"></textarea></div><div class="CodeMirror-vscrollbar" cm-not-content="true"><div style="min-width: 1px; height: 0px;"></div></div><div class="CodeMirror-hscrollbar" cm-not-content="true" style="right: 0px; left: 0px;"><div style="height: 100%; min-height: 1px; width: 0px;"></div></div><div class="CodeMirror-scrollbar-filler" cm-not-content="true"></div><div class="CodeMirror-gutter-filler" cm-not-content="true"></div><div class="CodeMirror-scroll" tabindex="-1"><div class="CodeMirror-sizer" style="margin-left: 0px; min-width: 692.616px; margin-bottom: -14px; border-right-width: 16px; min-height: 256px; padding-right: 0px; padding-bottom: 0px;"><div style="position: relative; top: 0px;"><div class="CodeMirror-lines"><div style="position: relative; outline: none;"><div class="CodeMirror-measure"></div><div class="CodeMirror-measure"></div><div style="position: relative; z-index: 1;"></div><div class="CodeMirror-cursors" style="visibility: hidden;"><div class="CodeMirror-cursor" style="left: 229.872px; top: 147.273px; height: 16.3636px;">&nbsp;</div></div><div class="CodeMirror-code"><pre class=" CodeMirror-line "><span style="padding-right: 0.1px;"><span class="cm-comment"># Assigning single feature to data_x</span></span></pre><pre class=" CodeMirror-line "><span style="padding-right: 0.1px;"><span class="cm-variable">data_x</span> = <span class="cm-variable">data</span>[<span class="cm-string">'X'</span>]</span></pre><pre class=" CodeMirror-line "><span style="padding-right: 0.1px;"><span cm-text="">​</span></span></pre><pre class=" CodeMirror-line "><span style="padding-right: 0.1px;"><span class="cm-comment"># Reshaping data if data has a single feature</span></span></pre><pre class=" CodeMirror-line "><span style="padding-right: 0.1px;"><span class="cm-variable">data_x</span> = <span class="cm-variable">data_x</span>.<span class="cm-property">values</span>.<span class="cm-property">reshape</span>(<span class="cm-operator">-</span><span class="cm-number">1</span>,<span class="cm-number">1</span>)</span></pre><pre class=" CodeMirror-line "><span style="padding-right: 0.1px;"><span cm-text="">​</span></span></pre><pre class=" CodeMirror-line "><span style="padding-right: 0.1px;"><span class="cm-comment"># Assigning corresponding y value to data_y</span></span></pre><pre class=" CodeMirror-line "><span style="padding-right: 0.1px;"><span class="cm-variable">data_y</span> = <span class="cm-variable">data</span>[<span class="cm-string">'Y'</span>]</span></pre><pre class=" CodeMirror-line "><span style="padding-right: 0.1px;"><span cm-text="">​</span></span></pre><pre class=" CodeMirror-line "><span style="padding-right: 0.1px;"><span class="cm-comment"># Applying linear regression</span></span></pre><pre class=" CodeMirror-line "><span style="padding-right: 0.1px;"><span class="cm-variable">linReg</span> = <span class="cm-variable">linear_model</span>.<span class="cm-property">LinearRegression</span>()</span></pre><pre class=" CodeMirror-line "><span style="padding-right: 0.1px;"><span cm-text="">​</span></span></pre><pre class=" CodeMirror-line "><span style="padding-right: 0.1px;"><span class="cm-comment"># Dividing data in x_train, y_train and x_test, y_test in standard ratio of 0.8+0.2 </span></span></pre><pre class=" CodeMirror-line "><span style="padding-right: 0.1px;"><span class="cm-variable">x_train</span>, <span class="cm-variable">x_test</span>, <span class="cm-variable">y_train</span>, <span class="cm-variable">y_test</span> = <span class="cm-variable">train_test_split</span>(<span class="cm-variable">data_x</span>, <span class="cm-variable">data_y</span>, <span class="cm-variable">test_size</span>=<span class="cm-number">0.2</span>)</span></pre><pre class=" CodeMirror-line "><span style="padding-right: 0.1px;"><span class="cm-variable">linReg</span>.<span class="cm-property">fit</span>(<span class="cm-variable">x_train</span>, <span class="cm-variable">y_train</span>)</span></pre></div></div></div></div></div><div style="position: absolute; height: 16px; width: 1px; border-bottom: 0px solid transparent; top: 256px;"></div><div class="CodeMirror-gutters" style="display: none; height: 272px;"></div></div></div></div></div></div><div class="widget-area" style="display: none;"><div class="prompt"><button class="close">×</button></div><div class="widget-subarea jp-Output-result"></div></div><div class="output_wrapper"><div class="out_prompt_overlay prompt" title="click to scroll output; double click to hide" style=""></div><div class="output" style=""><div class="output_area"><div class="prompt output_prompt"><bdi>Out</bdi>[315]:</div><div class="output_subarea output_text output_result"><pre>LinearRegression(copy_X=True, fit_intercept=True, n_jobs=1, normalize=False)</pre></div></div></div><div class="btn btn-default output_collapsed" title="click to expand output" style="display: none;">. . .</div></div></div><div class="cell code_cell rendered unselected" tabindex="2"><div class="input"><div class="prompt input_prompt"><bdi>In</bdi>&nbsp;[316]:</div><div class="inner_cell"><div class="ctb_hideshow"><div class="celltoolbar"></div></div><div class="input_area"><div class="CodeMirror cm-s-ipython"><div style="overflow: hidden; position: relative; width: 3px; height: 0px; top: 38.3239px; left: 38.3807px;"><textarea autocorrect="off" autocapitalize="off" spellcheck="false" tabindex="0" style="position: absolute; bottom: -1em; padding: 0px; width: 1000px; height: 1em; outline: none;"></textarea></div><div class="CodeMirror-vscrollbar" cm-not-content="true"><div style="min-width: 1px; height: 0px;"></div></div><div class="CodeMirror-hscrollbar" cm-not-content="true"><div style="height: 100%; min-height: 1px; width: 0px;"></div></div><div class="CodeMirror-scrollbar-filler" cm-not-content="true"></div><div class="CodeMirror-gutter-filler" cm-not-content="true"></div><div class="CodeMirror-scroll" tabindex="-1"><div class="CodeMirror-sizer" style="margin-left: 0px; min-width: 216.352px; margin-bottom: -14px; border-right-width: 16px; min-height: 60px; padding-right: 0px; padding-bottom: 0px;"><div style="position: relative; top: 0px;"><div class="CodeMirror-lines"><div style="position: relative; outline: none;"><div class="CodeMirror-measure"></div><div class="CodeMirror-measure"></div><div style="position: relative; z-index: 1;"></div><div class="CodeMirror-cursors" style="visibility: hidden;"><div class="CodeMirror-cursor" style="left: 32.7841px; top: 32.7273px; height: 16.3636px;">&nbsp;</div></div><div class="CodeMirror-code"><pre class=" CodeMirror-line "><span style="padding-right: 0.1px;"><span class="cm-comment"># Sampling x_test</span></span></pre><pre class=" CodeMirror-line "><span style="padding-right: 0.1px;"><span class="cm-variable">a</span> = <span class="cm-variable">linReg</span>.<span class="cm-property">predict</span>(<span class="cm-variable">x_test</span>)</span></pre><pre class=" CodeMirror-line "><span style="padding-right: 0.1px;"><span class="cm-variable">a</span>[<span class="cm-number">5</span>]</span></pre></div></div></div></div></div><div style="position: absolute; height: 16px; width: 1px; border-bottom: 0px solid transparent; top: 60px;"></div><div class="CodeMirror-gutters" style="display: none; height: 76px;"></div></div></div></div></div></div><div class="widget-area" style="display: none;"><div class="prompt"><button class="close">×</button></div><div class="widget-subarea jp-Output-result"></div></div><div class="output_wrapper"><div class="out_prompt_overlay prompt" title="click to scroll output; double click to hide" style=""></div><div class="output" style=""><div class="output_area"><div class="prompt output_prompt"><bdi>Out</bdi>[316]:</div><div class="output_subarea output_text output_result"><pre>2.9366850668990159</pre></div></div></div><div class="btn btn-default output_collapsed" title="click to expand output" style="display: none;">. . .</div></div></div><div class="cell code_cell rendered unselected" tabindex="2"><div class="input"><div class="prompt input_prompt"><bdi>In</bdi>&nbsp;[317]:</div><div class="inner_cell"><div class="ctb_hideshow"><div class="celltoolbar"></div></div><div class="input_area"><div class="CodeMirror cm-s-ipython"><div style="overflow: hidden; position: relative; width: 3px; height: 0px; top: 5.59659px; left: 5.59659px;"><textarea autocorrect="off" autocapitalize="off" spellcheck="false" tabindex="0" style="position: absolute; bottom: -1em; padding: 0px; width: 1000px; height: 1em; outline: none;"></textarea></div><div class="CodeMirror-vscrollbar" cm-not-content="true"><div style="min-width: 1px; height: 0px;"></div></div><div class="CodeMirror-hscrollbar" cm-not-content="true"><div style="height: 100%; min-height: 1px; width: 0px;"></div></div><div class="CodeMirror-scrollbar-filler" cm-not-content="true"></div><div class="CodeMirror-gutter-filler" cm-not-content="true"></div><div class="CodeMirror-scroll" tabindex="-1"><div class="CodeMirror-sizer" style="margin-left: 0px; min-width: 429.903px; margin-bottom: -14px; border-right-width: 16px; min-height: 44px; padding-right: 0px; padding-bottom: 0px;"><div style="position: relative; top: 0px;"><div class="CodeMirror-lines"><div style="position: relative; outline: none;"><div class="CodeMirror-measure"></div><div class="CodeMirror-measure"></div><div style="position: relative; z-index: 1;"></div><div class="CodeMirror-cursors" style="visibility: hidden;"><div class="CodeMirror-cursor" style="left: 0px; top: 0px; height: 16.3636px;">&nbsp;</div></div><div class="CodeMirror-code"><pre class=" CodeMirror-line "><span style="padding-right: 0.1px;"><span class="cm-comment"># Corresponding values of y_test for selected x_test</span></span></pre><pre class=" CodeMirror-line "><span style="padding-right: 0.1px;"><span class="cm-variable">y_test</span></span></pre></div></div></div></div></div><div style="position: absolute; height: 16px; width: 1px; border-bottom: 0px solid transparent; top: 44px;"></div><div class="CodeMirror-gutters" style="display: none; height: 60px;"></div></div></div></div></div></div><div class="widget-area" style="display: none;"><div class="prompt"><button class="close">×</button></div><div class="widget-subarea jp-Output-result"></div></div><div class="output_wrapper"><div class="out_prompt_overlay prompt" title="click to scroll output; double click to hide" style=""></div><div class="output" style=""><div class="output_area"><div class="prompt output_prompt"><bdi>Out</bdi>[317]:</div><div class="output_subarea output_text output_result"><pre>18     3.65180
44     6.73180
65     4.88520
75     0.29678
85     4.24150
33     1.84950
57     4.60420
41     3.91150
8      6.59870
1      9.13020
49     1.01790
7     12.00000
34     6.54260
45     1.04630
77     5.70140
12     3.15510
22     4.26300
71     4.02590
30    -1.22000
92     7.20290
Name: Y, dtype: float64</pre></div></div></div><div class="btn btn-default output_collapsed" title="click to expand output" style="display: none;">. . .</div></div></div><div class="cell code_cell rendered unselected" tabindex="2"><div class="input"><div class="prompt input_prompt"><bdi>In</bdi>&nbsp;[318]:</div><div class="inner_cell"><div class="ctb_hideshow"><div class="celltoolbar"></div></div><div class="input_area"><div class="CodeMirror cm-s-ipython"><div style="overflow: hidden; position: relative; width: 3px; height: 0px; top: 21.9602px; left: 202.869px;"><textarea autocorrect="off" autocapitalize="off" spellcheck="false" tabindex="0" style="position: absolute; bottom: -1em; padding: 0px; width: 1000px; height: 1em; outline: none;"></textarea></div><div class="CodeMirror-vscrollbar" cm-not-content="true"><div style="min-width: 1px; height: 0px;"></div></div><div class="CodeMirror-hscrollbar" cm-not-content="true"><div style="height: 100%; min-height: 1px; width: 0px;"></div></div><div class="CodeMirror-scrollbar-filler" cm-not-content="true"></div><div class="CodeMirror-gutter-filler" cm-not-content="true"></div><div class="CodeMirror-scroll" tabindex="-1"><div class="CodeMirror-sizer" style="margin-left: 0px; min-width: 372.205px; margin-bottom: -14px; border-right-width: 16px; min-height: 44px; padding-right: 0px; padding-bottom: 0px;"><div style="position: relative; top: 0px;"><div class="CodeMirror-lines"><div style="position: relative; outline: none;"><div class="CodeMirror-measure"></div><div class="CodeMirror-measure"></div><div style="position: relative; z-index: 1;"></div><div class="CodeMirror-cursors" style="visibility: hidden;"><div class="CodeMirror-cursor" style="left: 197.273px; top: 16.3636px; height: 16.3636px;">&nbsp;</div></div><div class="CodeMirror-code"><pre class=" CodeMirror-line "><span style="padding-right: 0.1px;"><span class="cm-comment"># Mean square error</span></span></pre><pre class=" CodeMirror-line "><span style="padding-right: 0.1px;"><span class="cm-variable">np</span>.<span class="cm-property">mean</span>((<span class="cm-variable">linReg</span>.<span class="cm-property">predict</span>(<span class="cm-variable">x_test</span>) <span class="cm-operator">-</span> <span class="cm-variable">y_test</span>)<span class="cm-operator">**</span><span class="cm-number">2</span>)</span></pre></div></div></div></div></div><div style="position: absolute; height: 16px; width: 1px; border-bottom: 0px solid transparent; top: 44px;"></div><div class="CodeMirror-gutters" style="display: none; height: 60px;"></div></div></div></div></div></div><div class="widget-area" style="display: none;"><div class="prompt"><button class="close">×</button></div><div class="widget-subarea jp-Output-result"></div></div><div class="output_wrapper"><div class="out_prompt_overlay prompt" title="click to scroll output; double click to hide" style=""></div><div class="output" style=""><div class="output_area"><div class="prompt output_prompt"><bdi>Out</bdi>[318]:</div><div class="output_subarea output_text output_result"><pre>8.566732233119243</pre></div></div></div><div class="btn btn-default output_collapsed" title="click to expand output" style="display: none;">. . .</div></div></div><div class="cell code_cell rendered selected" tabindex="2"><div class="input"><div class="prompt input_prompt"><bdi>In</bdi>&nbsp;[319]:</div><div class="inner_cell"><div class="ctb_hideshow"><div class="celltoolbar"></div></div><div class="input_area"><div class="CodeMirror cm-s-ipython"><div style="overflow: hidden; position: relative; width: 3px; height: 0px; top: 38.3239px; left: 202.869px;"><textarea autocorrect="off" autocapitalize="off" spellcheck="false" tabindex="0" style="position: absolute; bottom: -1em; padding: 0px; width: 1000px; height: 1em; outline: none;"></textarea></div><div class="CodeMirror-vscrollbar" cm-not-content="true"><div style="min-width: 1px; height: 0px;"></div></div><div class="CodeMirror-hscrollbar" cm-not-content="true"><div style="height: 100%; min-height: 1px; width: 0px;"></div></div><div class="CodeMirror-scrollbar-filler" cm-not-content="true"></div><div class="CodeMirror-gutter-filler" cm-not-content="true"></div><div class="CodeMirror-scroll" tabindex="-1" draggable="false"><div class="CodeMirror-sizer" style="margin-left: 0px; min-width: 495.386px; margin-bottom: -14px; border-right-width: 16px; min-height: 158px; padding-right: 0px; padding-bottom: 0px;"><div style="position: relative; top: 0px;"><div class="CodeMirror-lines"><div style="position: relative; outline: none;"><div class="CodeMirror-measure"></div><div class="CodeMirror-measure"></div><div style="position: relative; z-index: 1;"></div><div class="CodeMirror-cursors" style="visibility: hidden;"><div class="CodeMirror-cursor" style="left: 197.273px; top: 32.7273px; height: 16.3636px;">&nbsp;</div></div><div class="CodeMirror-code"><pre class=" CodeMirror-line "><span style="padding-right: 0.1px;"><span class="cm-comment"># Plotting the data</span></span></pre><pre class=" CodeMirror-line "><span style="padding-right: 0.1px;"><span class="cm-variable">plt</span>.<span class="cm-property">plot</span>()</span></pre><pre class=" CodeMirror-line "><span style="padding-right: 0.1px;"><span class="cm-variable">plt</span>.<span class="cm-property">scatter</span>(<span class="cm-variable">x_train</span>, <span class="cm-variable">y_train</span>, <span class="cm-variable">color</span>=<span class="cm-string">"b"</span>, <span class="cm-variable">label</span>=<span class="cm-string">"train data"</span>)</span></pre><pre class=" CodeMirror-line "><span style="padding-right: 0.1px;"><span class="cm-variable">plt</span>.<span class="cm-property">scatter</span>(<span class="cm-variable">x_test</span>, <span class="cm-variable">y_test</span>, <span class="cm-variable">color</span>=<span class="cm-string">"r"</span>, <span class="cm-variable">label</span>=<span class="cm-string">"test data"</span>)</span></pre><pre class=" CodeMirror-line "><span style="padding-right: 0.1px;"><span class="cm-variable">plt</span>.<span class="cm-property">plot</span>(<span class="cm-variable">x_train</span>, <span class="cm-variable">linReg</span>.<span class="cm-property">predict</span>(<span class="cm-variable">x_train</span>), <span class="cm-variable">color</span>=<span class="cm-string">"black"</span>)</span></pre><pre class=" CodeMirror-line "><span style="padding-right: 0.1px;"><span class="cm-variable">plt</span>.<span class="cm-property">legend</span>(<span class="cm-variable">loc</span>=<span class="cm-number">7</span>)</span></pre><pre class=" CodeMirror-line "><span style="padding-right: 0.1px;"><span class="cm-variable">plt</span>.<span class="cm-property">xlabel</span>(<span class="cm-string">"X"</span>)</span></pre><pre class=" CodeMirror-line "><span style="padding-right: 0.1px;"><span class="cm-variable">plt</span>.<span class="cm-property">ylabel</span>(<span class="cm-string">"Y"</span>)</span></pre><pre class=" CodeMirror-line "><span style="padding-right: 0.1px;"><span class="cm-variable">plt</span>.<span class="cm-property">show</span>()</span></pre></div></div></div></div></div><div style="position: absolute; height: 16px; width: 1px; border-bottom: 0px solid transparent; top: 158px;"></div><div class="CodeMirror-gutters" style="display: none; height: 174px;"></div></div></div></div></div></div><div class="widget-area" style="display: none;"><div class="prompt"><button class="close">×</button></div><div class="widget-subarea jp-Output-result"></div></div><div class="output_wrapper"><div class="out_prompt_overlay prompt" title="click to scroll output; double click to hide" style=""></div><div class="output" style=""><div class="output_area"><div class="prompt"></div><div class="output_subarea output_png"><img src="data:image/png;base64,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"></div></div></div><div class="btn btn-default output_collapsed" title="click to expand output" style="display: none;">. . .</div></div></div></div><div class="end_space"></div></div>
        <div id="tooltip" class="ipython_tooltip" style="display:none"><div class="tooltipbuttons"><a href="http://localhost:8888/notebooks/LinearRegression.ipynb#" role="button" class="ui-button"><span class="ui-icon ui-icon-close">Close</span></a><a href="http://localhost:8888/notebooks/LinearRegression.ipynb#" class="ui-corner-all" role="button" id="expanbutton" title="Grow the tooltip vertically (press shift-tab twice)"><span class="ui-icon ui-icon-plus">Expand</span></a><a href="http://localhost:8888/notebooks/LinearRegression.ipynb#" role="button" class="ui-button" title="show the current docstring in pager (press shift-tab 4 times)"><span class="ui-icon ui-icon-arrowstop-l-n">Open in Pager</span></a><a href="http://localhost:8888/notebooks/LinearRegression.ipynb#" role="button" class="ui-button" title="Tooltip will linger for 10 seconds while you type" style="display: none;"><span class="ui-icon ui-icon-clock">Close</span></a></div><div class="pretooltiparrow"></div><div class="tooltiptext smalltooltip"></div></div>
    </div>
</div>



</div>



<div id="pager" class="ui-resizable">
    <div id="pager-contents">
        <div id="pager-container" class="container"></div>
    </div>
    <div id="pager-button-area"><a role="button" title="Open the pager in an external window" class="ui-button"><span class="ui-icon ui-icon-extlink"></span></a><a role="button" title="Close the pager" class="ui-button"><span class="ui-icon ui-icon-close"></span></a></div>
<div class="ui-resizable-handle ui-resizable-n" style="z-index: 90;"></div></div>






<script type="text/javascript">
    sys_info = {"os_name": "posix", "platform": "Linux-4.4.0-83-generic-x86_64-with-debian-stretch-sid", "default_encoding": "UTF-8", "notebook_path": "/home/sakshi/anaconda2/lib/python2.7/site-packages/notebook", "sys_platform": "linux2", "sys_version": "2.7.13 |Anaconda 4.4.0 (64-bit)| (default, Dec 20 2016, 23:09:15) \n[GCC 4.4.7 20120313 (Red Hat 4.4.7-1)]", "notebook_version": "5.0.0", "commit_source": "", "commit_hash": "", "sys_executable": "/home/sakshi/anaconda2/bin/python"};
</script>

<script src="./LinearRegression_files/encoding.js" charset="utf-8"></script>

<script src="./LinearRegression_files/main.min.js" type="text/javascript" charset="utf-8"></script>



<script type="text/javascript">
  function _remove_token_from_url() {
    if (window.location.search.length <= 1) {
      return;
    }
    var search_parameters = window.location.search.slice(1).split('&');
    for (var i = 0; i < search_parameters.length; i++) {
      if (search_parameters[i].split('=')[0] === 'token') {
        // remote token from search parameters
        search_parameters.splice(i, 1);
        var new_search = '';
        if (search_parameters.length) {
          new_search = '?' + search_parameters.join('&');
        }
        var new_url = window.location.origin + 
                      window.location.pathname + 
                      new_search + 
                      window.location.hash;
        window.history.replaceState({}, "", new_url);
        return;
      }
    }
  }
  _remove_token_from_url();
</script>


<div style="position: absolute; width: 0px; height: 0px; overflow: hidden; padding: 0px; border: 0px; margin: 0px;"><div id="MathJax_Font_Test" style="position: absolute; visibility: hidden; top: 0px; left: 0px; width: auto; padding: 0px; border: 0px; margin: 0px; white-space: nowrap; text-align: left; text-indent: 0px; text-transform: none; line-height: normal; letter-spacing: normal; word-spacing: normal; font-size: 40px; font-weight: normal; font-style: normal;"></div></div></body></html>